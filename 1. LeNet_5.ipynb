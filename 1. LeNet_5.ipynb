{
  "nbformat": 4,
  "nbformat_minor": 0,
  "metadata": {
    "accelerator": "GPU",
    "colab": {
      "name": "LeNet-5",
      "provenance": []
    },
    "kernelspec": {
      "display_name": "Python 3",
      "name": "python3"
    },
    "language_info": {
      "name": "python"
    },
    "widgets": {
      "application/vnd.jupyter.widget-state+json": {
        "3acb627e54264684839cb91aa62fbd05": {
          "model_module": "@jupyter-widgets/controls",
          "model_name": "HBoxModel",
          "model_module_version": "1.5.0",
          "state": {
            "_view_name": "HBoxView",
            "_dom_classes": [],
            "_model_name": "HBoxModel",
            "_view_module": "@jupyter-widgets/controls",
            "_model_module_version": "1.5.0",
            "_view_count": null,
            "_view_module_version": "1.5.0",
            "box_style": "",
            "layout": "IPY_MODEL_f726594c037c477eb8741e335ea9ef51",
            "_model_module": "@jupyter-widgets/controls",
            "children": [
              "IPY_MODEL_3ce6ff08e32948c2892915a9deec79ea",
              "IPY_MODEL_0836b96a6feb4e9f83b55e1b1407d290",
              "IPY_MODEL_18671933f35b424aa42c3dd39ad8b0ae"
            ]
          }
        },
        "f726594c037c477eb8741e335ea9ef51": {
          "model_module": "@jupyter-widgets/base",
          "model_name": "LayoutModel",
          "model_module_version": "1.2.0",
          "state": {
            "_view_name": "LayoutView",
            "grid_template_rows": null,
            "right": null,
            "justify_content": null,
            "_view_module": "@jupyter-widgets/base",
            "overflow": null,
            "_model_module_version": "1.2.0",
            "_view_count": null,
            "flex_flow": null,
            "width": null,
            "min_width": null,
            "border": null,
            "align_items": null,
            "bottom": null,
            "_model_module": "@jupyter-widgets/base",
            "top": null,
            "grid_column": null,
            "overflow_y": null,
            "overflow_x": null,
            "grid_auto_flow": null,
            "grid_area": null,
            "grid_template_columns": null,
            "flex": null,
            "_model_name": "LayoutModel",
            "justify_items": null,
            "grid_row": null,
            "max_height": null,
            "align_content": null,
            "visibility": null,
            "align_self": null,
            "height": null,
            "min_height": null,
            "padding": null,
            "grid_auto_rows": null,
            "grid_gap": null,
            "max_width": null,
            "order": null,
            "_view_module_version": "1.2.0",
            "grid_template_areas": null,
            "object_position": null,
            "object_fit": null,
            "grid_auto_columns": null,
            "margin": null,
            "display": null,
            "left": null
          }
        },
        "3ce6ff08e32948c2892915a9deec79ea": {
          "model_module": "@jupyter-widgets/controls",
          "model_name": "HTMLModel",
          "model_module_version": "1.5.0",
          "state": {
            "_view_name": "HTMLView",
            "style": "IPY_MODEL_b4ea5cef492d4f5aa8b935f4a4e81cd9",
            "_dom_classes": [],
            "description": "",
            "_model_name": "HTMLModel",
            "placeholder": "​",
            "_view_module": "@jupyter-widgets/controls",
            "_model_module_version": "1.5.0",
            "value": "",
            "_view_count": null,
            "_view_module_version": "1.5.0",
            "description_tooltip": null,
            "_model_module": "@jupyter-widgets/controls",
            "layout": "IPY_MODEL_e9d7ef576c2344c8ba9ee28782e6d21c"
          }
        },
        "0836b96a6feb4e9f83b55e1b1407d290": {
          "model_module": "@jupyter-widgets/controls",
          "model_name": "FloatProgressModel",
          "model_module_version": "1.5.0",
          "state": {
            "_view_name": "ProgressView",
            "style": "IPY_MODEL_bf8f1e1c82fe486ca62eb0449b0e984a",
            "_dom_classes": [],
            "description": "",
            "_model_name": "FloatProgressModel",
            "bar_style": "success",
            "max": 9912422,
            "_view_module": "@jupyter-widgets/controls",
            "_model_module_version": "1.5.0",
            "value": 9912422,
            "_view_count": null,
            "_view_module_version": "1.5.0",
            "orientation": "horizontal",
            "min": 0,
            "description_tooltip": null,
            "_model_module": "@jupyter-widgets/controls",
            "layout": "IPY_MODEL_0186e3e4355743088646ee778e92cf6a"
          }
        },
        "18671933f35b424aa42c3dd39ad8b0ae": {
          "model_module": "@jupyter-widgets/controls",
          "model_name": "HTMLModel",
          "model_module_version": "1.5.0",
          "state": {
            "_view_name": "HTMLView",
            "style": "IPY_MODEL_ac171e02fb9548948e51c9ce0d2eece6",
            "_dom_classes": [],
            "description": "",
            "_model_name": "HTMLModel",
            "placeholder": "​",
            "_view_module": "@jupyter-widgets/controls",
            "_model_module_version": "1.5.0",
            "value": " 9913344/? [03:18&lt;00:00, 46325.91it/s]",
            "_view_count": null,
            "_view_module_version": "1.5.0",
            "description_tooltip": null,
            "_model_module": "@jupyter-widgets/controls",
            "layout": "IPY_MODEL_8cd493e103ba4880a97db2bfcf495659"
          }
        },
        "b4ea5cef492d4f5aa8b935f4a4e81cd9": {
          "model_module": "@jupyter-widgets/controls",
          "model_name": "DescriptionStyleModel",
          "model_module_version": "1.5.0",
          "state": {
            "_view_name": "StyleView",
            "_model_name": "DescriptionStyleModel",
            "description_width": "",
            "_view_module": "@jupyter-widgets/base",
            "_model_module_version": "1.5.0",
            "_view_count": null,
            "_view_module_version": "1.2.0",
            "_model_module": "@jupyter-widgets/controls"
          }
        },
        "e9d7ef576c2344c8ba9ee28782e6d21c": {
          "model_module": "@jupyter-widgets/base",
          "model_name": "LayoutModel",
          "model_module_version": "1.2.0",
          "state": {
            "_view_name": "LayoutView",
            "grid_template_rows": null,
            "right": null,
            "justify_content": null,
            "_view_module": "@jupyter-widgets/base",
            "overflow": null,
            "_model_module_version": "1.2.0",
            "_view_count": null,
            "flex_flow": null,
            "width": null,
            "min_width": null,
            "border": null,
            "align_items": null,
            "bottom": null,
            "_model_module": "@jupyter-widgets/base",
            "top": null,
            "grid_column": null,
            "overflow_y": null,
            "overflow_x": null,
            "grid_auto_flow": null,
            "grid_area": null,
            "grid_template_columns": null,
            "flex": null,
            "_model_name": "LayoutModel",
            "justify_items": null,
            "grid_row": null,
            "max_height": null,
            "align_content": null,
            "visibility": null,
            "align_self": null,
            "height": null,
            "min_height": null,
            "padding": null,
            "grid_auto_rows": null,
            "grid_gap": null,
            "max_width": null,
            "order": null,
            "_view_module_version": "1.2.0",
            "grid_template_areas": null,
            "object_position": null,
            "object_fit": null,
            "grid_auto_columns": null,
            "margin": null,
            "display": null,
            "left": null
          }
        },
        "bf8f1e1c82fe486ca62eb0449b0e984a": {
          "model_module": "@jupyter-widgets/controls",
          "model_name": "ProgressStyleModel",
          "model_module_version": "1.5.0",
          "state": {
            "_view_name": "StyleView",
            "_model_name": "ProgressStyleModel",
            "description_width": "",
            "_view_module": "@jupyter-widgets/base",
            "_model_module_version": "1.5.0",
            "_view_count": null,
            "_view_module_version": "1.2.0",
            "bar_color": null,
            "_model_module": "@jupyter-widgets/controls"
          }
        },
        "0186e3e4355743088646ee778e92cf6a": {
          "model_module": "@jupyter-widgets/base",
          "model_name": "LayoutModel",
          "model_module_version": "1.2.0",
          "state": {
            "_view_name": "LayoutView",
            "grid_template_rows": null,
            "right": null,
            "justify_content": null,
            "_view_module": "@jupyter-widgets/base",
            "overflow": null,
            "_model_module_version": "1.2.0",
            "_view_count": null,
            "flex_flow": null,
            "width": null,
            "min_width": null,
            "border": null,
            "align_items": null,
            "bottom": null,
            "_model_module": "@jupyter-widgets/base",
            "top": null,
            "grid_column": null,
            "overflow_y": null,
            "overflow_x": null,
            "grid_auto_flow": null,
            "grid_area": null,
            "grid_template_columns": null,
            "flex": null,
            "_model_name": "LayoutModel",
            "justify_items": null,
            "grid_row": null,
            "max_height": null,
            "align_content": null,
            "visibility": null,
            "align_self": null,
            "height": null,
            "min_height": null,
            "padding": null,
            "grid_auto_rows": null,
            "grid_gap": null,
            "max_width": null,
            "order": null,
            "_view_module_version": "1.2.0",
            "grid_template_areas": null,
            "object_position": null,
            "object_fit": null,
            "grid_auto_columns": null,
            "margin": null,
            "display": null,
            "left": null
          }
        },
        "ac171e02fb9548948e51c9ce0d2eece6": {
          "model_module": "@jupyter-widgets/controls",
          "model_name": "DescriptionStyleModel",
          "model_module_version": "1.5.0",
          "state": {
            "_view_name": "StyleView",
            "_model_name": "DescriptionStyleModel",
            "description_width": "",
            "_view_module": "@jupyter-widgets/base",
            "_model_module_version": "1.5.0",
            "_view_count": null,
            "_view_module_version": "1.2.0",
            "_model_module": "@jupyter-widgets/controls"
          }
        },
        "8cd493e103ba4880a97db2bfcf495659": {
          "model_module": "@jupyter-widgets/base",
          "model_name": "LayoutModel",
          "model_module_version": "1.2.0",
          "state": {
            "_view_name": "LayoutView",
            "grid_template_rows": null,
            "right": null,
            "justify_content": null,
            "_view_module": "@jupyter-widgets/base",
            "overflow": null,
            "_model_module_version": "1.2.0",
            "_view_count": null,
            "flex_flow": null,
            "width": null,
            "min_width": null,
            "border": null,
            "align_items": null,
            "bottom": null,
            "_model_module": "@jupyter-widgets/base",
            "top": null,
            "grid_column": null,
            "overflow_y": null,
            "overflow_x": null,
            "grid_auto_flow": null,
            "grid_area": null,
            "grid_template_columns": null,
            "flex": null,
            "_model_name": "LayoutModel",
            "justify_items": null,
            "grid_row": null,
            "max_height": null,
            "align_content": null,
            "visibility": null,
            "align_self": null,
            "height": null,
            "min_height": null,
            "padding": null,
            "grid_auto_rows": null,
            "grid_gap": null,
            "max_width": null,
            "order": null,
            "_view_module_version": "1.2.0",
            "grid_template_areas": null,
            "object_position": null,
            "object_fit": null,
            "grid_auto_columns": null,
            "margin": null,
            "display": null,
            "left": null
          }
        },
        "3956eaa7a9d649518b6b2dbfa778e09c": {
          "model_module": "@jupyter-widgets/controls",
          "model_name": "HBoxModel",
          "model_module_version": "1.5.0",
          "state": {
            "_view_name": "HBoxView",
            "_dom_classes": [],
            "_model_name": "HBoxModel",
            "_view_module": "@jupyter-widgets/controls",
            "_model_module_version": "1.5.0",
            "_view_count": null,
            "_view_module_version": "1.5.0",
            "box_style": "",
            "layout": "IPY_MODEL_006c5425091f4d3ebbf4606b8f121dd5",
            "_model_module": "@jupyter-widgets/controls",
            "children": [
              "IPY_MODEL_33cbb3b69b18496689be5e0eae9939a1",
              "IPY_MODEL_a311e6e2987848f5b020de6a5cdc2a84",
              "IPY_MODEL_6a668a53ba97447db6c58eaefaca0ae1"
            ]
          }
        },
        "006c5425091f4d3ebbf4606b8f121dd5": {
          "model_module": "@jupyter-widgets/base",
          "model_name": "LayoutModel",
          "model_module_version": "1.2.0",
          "state": {
            "_view_name": "LayoutView",
            "grid_template_rows": null,
            "right": null,
            "justify_content": null,
            "_view_module": "@jupyter-widgets/base",
            "overflow": null,
            "_model_module_version": "1.2.0",
            "_view_count": null,
            "flex_flow": null,
            "width": null,
            "min_width": null,
            "border": null,
            "align_items": null,
            "bottom": null,
            "_model_module": "@jupyter-widgets/base",
            "top": null,
            "grid_column": null,
            "overflow_y": null,
            "overflow_x": null,
            "grid_auto_flow": null,
            "grid_area": null,
            "grid_template_columns": null,
            "flex": null,
            "_model_name": "LayoutModel",
            "justify_items": null,
            "grid_row": null,
            "max_height": null,
            "align_content": null,
            "visibility": null,
            "align_self": null,
            "height": null,
            "min_height": null,
            "padding": null,
            "grid_auto_rows": null,
            "grid_gap": null,
            "max_width": null,
            "order": null,
            "_view_module_version": "1.2.0",
            "grid_template_areas": null,
            "object_position": null,
            "object_fit": null,
            "grid_auto_columns": null,
            "margin": null,
            "display": null,
            "left": null
          }
        },
        "33cbb3b69b18496689be5e0eae9939a1": {
          "model_module": "@jupyter-widgets/controls",
          "model_name": "HTMLModel",
          "model_module_version": "1.5.0",
          "state": {
            "_view_name": "HTMLView",
            "style": "IPY_MODEL_172483eed2e241a1b3e3a25a669843c6",
            "_dom_classes": [],
            "description": "",
            "_model_name": "HTMLModel",
            "placeholder": "​",
            "_view_module": "@jupyter-widgets/controls",
            "_model_module_version": "1.5.0",
            "value": "",
            "_view_count": null,
            "_view_module_version": "1.5.0",
            "description_tooltip": null,
            "_model_module": "@jupyter-widgets/controls",
            "layout": "IPY_MODEL_f37c8b1a60fe4d2a8becae4628290634"
          }
        },
        "a311e6e2987848f5b020de6a5cdc2a84": {
          "model_module": "@jupyter-widgets/controls",
          "model_name": "FloatProgressModel",
          "model_module_version": "1.5.0",
          "state": {
            "_view_name": "ProgressView",
            "style": "IPY_MODEL_e5ffd149e57c4634831e1053b70483e6",
            "_dom_classes": [],
            "description": "",
            "_model_name": "FloatProgressModel",
            "bar_style": "success",
            "max": 28881,
            "_view_module": "@jupyter-widgets/controls",
            "_model_module_version": "1.5.0",
            "value": 28881,
            "_view_count": null,
            "_view_module_version": "1.5.0",
            "orientation": "horizontal",
            "min": 0,
            "description_tooltip": null,
            "_model_module": "@jupyter-widgets/controls",
            "layout": "IPY_MODEL_b045ce0a03e2479aa5042747637e3c2b"
          }
        },
        "6a668a53ba97447db6c58eaefaca0ae1": {
          "model_module": "@jupyter-widgets/controls",
          "model_name": "HTMLModel",
          "model_module_version": "1.5.0",
          "state": {
            "_view_name": "HTMLView",
            "style": "IPY_MODEL_bc06b74dc0184d0ba341f8a8c356e212",
            "_dom_classes": [],
            "description": "",
            "_model_name": "HTMLModel",
            "placeholder": "​",
            "_view_module": "@jupyter-widgets/controls",
            "_model_module_version": "1.5.0",
            "value": " 29696/? [00:00&lt;00:00, 460610.15it/s]",
            "_view_count": null,
            "_view_module_version": "1.5.0",
            "description_tooltip": null,
            "_model_module": "@jupyter-widgets/controls",
            "layout": "IPY_MODEL_77aae6f0597847b3a051d7fc5fe5aa0c"
          }
        },
        "172483eed2e241a1b3e3a25a669843c6": {
          "model_module": "@jupyter-widgets/controls",
          "model_name": "DescriptionStyleModel",
          "model_module_version": "1.5.0",
          "state": {
            "_view_name": "StyleView",
            "_model_name": "DescriptionStyleModel",
            "description_width": "",
            "_view_module": "@jupyter-widgets/base",
            "_model_module_version": "1.5.0",
            "_view_count": null,
            "_view_module_version": "1.2.0",
            "_model_module": "@jupyter-widgets/controls"
          }
        },
        "f37c8b1a60fe4d2a8becae4628290634": {
          "model_module": "@jupyter-widgets/base",
          "model_name": "LayoutModel",
          "model_module_version": "1.2.0",
          "state": {
            "_view_name": "LayoutView",
            "grid_template_rows": null,
            "right": null,
            "justify_content": null,
            "_view_module": "@jupyter-widgets/base",
            "overflow": null,
            "_model_module_version": "1.2.0",
            "_view_count": null,
            "flex_flow": null,
            "width": null,
            "min_width": null,
            "border": null,
            "align_items": null,
            "bottom": null,
            "_model_module": "@jupyter-widgets/base",
            "top": null,
            "grid_column": null,
            "overflow_y": null,
            "overflow_x": null,
            "grid_auto_flow": null,
            "grid_area": null,
            "grid_template_columns": null,
            "flex": null,
            "_model_name": "LayoutModel",
            "justify_items": null,
            "grid_row": null,
            "max_height": null,
            "align_content": null,
            "visibility": null,
            "align_self": null,
            "height": null,
            "min_height": null,
            "padding": null,
            "grid_auto_rows": null,
            "grid_gap": null,
            "max_width": null,
            "order": null,
            "_view_module_version": "1.2.0",
            "grid_template_areas": null,
            "object_position": null,
            "object_fit": null,
            "grid_auto_columns": null,
            "margin": null,
            "display": null,
            "left": null
          }
        },
        "e5ffd149e57c4634831e1053b70483e6": {
          "model_module": "@jupyter-widgets/controls",
          "model_name": "ProgressStyleModel",
          "model_module_version": "1.5.0",
          "state": {
            "_view_name": "StyleView",
            "_model_name": "ProgressStyleModel",
            "description_width": "",
            "_view_module": "@jupyter-widgets/base",
            "_model_module_version": "1.5.0",
            "_view_count": null,
            "_view_module_version": "1.2.0",
            "bar_color": null,
            "_model_module": "@jupyter-widgets/controls"
          }
        },
        "b045ce0a03e2479aa5042747637e3c2b": {
          "model_module": "@jupyter-widgets/base",
          "model_name": "LayoutModel",
          "model_module_version": "1.2.0",
          "state": {
            "_view_name": "LayoutView",
            "grid_template_rows": null,
            "right": null,
            "justify_content": null,
            "_view_module": "@jupyter-widgets/base",
            "overflow": null,
            "_model_module_version": "1.2.0",
            "_view_count": null,
            "flex_flow": null,
            "width": null,
            "min_width": null,
            "border": null,
            "align_items": null,
            "bottom": null,
            "_model_module": "@jupyter-widgets/base",
            "top": null,
            "grid_column": null,
            "overflow_y": null,
            "overflow_x": null,
            "grid_auto_flow": null,
            "grid_area": null,
            "grid_template_columns": null,
            "flex": null,
            "_model_name": "LayoutModel",
            "justify_items": null,
            "grid_row": null,
            "max_height": null,
            "align_content": null,
            "visibility": null,
            "align_self": null,
            "height": null,
            "min_height": null,
            "padding": null,
            "grid_auto_rows": null,
            "grid_gap": null,
            "max_width": null,
            "order": null,
            "_view_module_version": "1.2.0",
            "grid_template_areas": null,
            "object_position": null,
            "object_fit": null,
            "grid_auto_columns": null,
            "margin": null,
            "display": null,
            "left": null
          }
        },
        "bc06b74dc0184d0ba341f8a8c356e212": {
          "model_module": "@jupyter-widgets/controls",
          "model_name": "DescriptionStyleModel",
          "model_module_version": "1.5.0",
          "state": {
            "_view_name": "StyleView",
            "_model_name": "DescriptionStyleModel",
            "description_width": "",
            "_view_module": "@jupyter-widgets/base",
            "_model_module_version": "1.5.0",
            "_view_count": null,
            "_view_module_version": "1.2.0",
            "_model_module": "@jupyter-widgets/controls"
          }
        },
        "77aae6f0597847b3a051d7fc5fe5aa0c": {
          "model_module": "@jupyter-widgets/base",
          "model_name": "LayoutModel",
          "model_module_version": "1.2.0",
          "state": {
            "_view_name": "LayoutView",
            "grid_template_rows": null,
            "right": null,
            "justify_content": null,
            "_view_module": "@jupyter-widgets/base",
            "overflow": null,
            "_model_module_version": "1.2.0",
            "_view_count": null,
            "flex_flow": null,
            "width": null,
            "min_width": null,
            "border": null,
            "align_items": null,
            "bottom": null,
            "_model_module": "@jupyter-widgets/base",
            "top": null,
            "grid_column": null,
            "overflow_y": null,
            "overflow_x": null,
            "grid_auto_flow": null,
            "grid_area": null,
            "grid_template_columns": null,
            "flex": null,
            "_model_name": "LayoutModel",
            "justify_items": null,
            "grid_row": null,
            "max_height": null,
            "align_content": null,
            "visibility": null,
            "align_self": null,
            "height": null,
            "min_height": null,
            "padding": null,
            "grid_auto_rows": null,
            "grid_gap": null,
            "max_width": null,
            "order": null,
            "_view_module_version": "1.2.0",
            "grid_template_areas": null,
            "object_position": null,
            "object_fit": null,
            "grid_auto_columns": null,
            "margin": null,
            "display": null,
            "left": null
          }
        },
        "193d0e3ef3524f13876cb7dad865b8c0": {
          "model_module": "@jupyter-widgets/controls",
          "model_name": "HBoxModel",
          "model_module_version": "1.5.0",
          "state": {
            "_view_name": "HBoxView",
            "_dom_classes": [],
            "_model_name": "HBoxModel",
            "_view_module": "@jupyter-widgets/controls",
            "_model_module_version": "1.5.0",
            "_view_count": null,
            "_view_module_version": "1.5.0",
            "box_style": "",
            "layout": "IPY_MODEL_94e7f5f4e3f94fb8ab602b18d31c889a",
            "_model_module": "@jupyter-widgets/controls",
            "children": [
              "IPY_MODEL_7029231b3d5e448280260a227d3ad165",
              "IPY_MODEL_ee8e486dc1be4ca8a3485f3768f0636f",
              "IPY_MODEL_028866608b694ea99b89d531bf4dd13a"
            ]
          }
        },
        "94e7f5f4e3f94fb8ab602b18d31c889a": {
          "model_module": "@jupyter-widgets/base",
          "model_name": "LayoutModel",
          "model_module_version": "1.2.0",
          "state": {
            "_view_name": "LayoutView",
            "grid_template_rows": null,
            "right": null,
            "justify_content": null,
            "_view_module": "@jupyter-widgets/base",
            "overflow": null,
            "_model_module_version": "1.2.0",
            "_view_count": null,
            "flex_flow": null,
            "width": null,
            "min_width": null,
            "border": null,
            "align_items": null,
            "bottom": null,
            "_model_module": "@jupyter-widgets/base",
            "top": null,
            "grid_column": null,
            "overflow_y": null,
            "overflow_x": null,
            "grid_auto_flow": null,
            "grid_area": null,
            "grid_template_columns": null,
            "flex": null,
            "_model_name": "LayoutModel",
            "justify_items": null,
            "grid_row": null,
            "max_height": null,
            "align_content": null,
            "visibility": null,
            "align_self": null,
            "height": null,
            "min_height": null,
            "padding": null,
            "grid_auto_rows": null,
            "grid_gap": null,
            "max_width": null,
            "order": null,
            "_view_module_version": "1.2.0",
            "grid_template_areas": null,
            "object_position": null,
            "object_fit": null,
            "grid_auto_columns": null,
            "margin": null,
            "display": null,
            "left": null
          }
        },
        "7029231b3d5e448280260a227d3ad165": {
          "model_module": "@jupyter-widgets/controls",
          "model_name": "HTMLModel",
          "model_module_version": "1.5.0",
          "state": {
            "_view_name": "HTMLView",
            "style": "IPY_MODEL_fb140d19d3df439f89c1e6fa1045efa6",
            "_dom_classes": [],
            "description": "",
            "_model_name": "HTMLModel",
            "placeholder": "​",
            "_view_module": "@jupyter-widgets/controls",
            "_model_module_version": "1.5.0",
            "value": "",
            "_view_count": null,
            "_view_module_version": "1.5.0",
            "description_tooltip": null,
            "_model_module": "@jupyter-widgets/controls",
            "layout": "IPY_MODEL_8dbc3b139a6041f688b3fbac423adb20"
          }
        },
        "ee8e486dc1be4ca8a3485f3768f0636f": {
          "model_module": "@jupyter-widgets/controls",
          "model_name": "FloatProgressModel",
          "model_module_version": "1.5.0",
          "state": {
            "_view_name": "ProgressView",
            "style": "IPY_MODEL_46dff82899c942abaf5a8b67e4097387",
            "_dom_classes": [],
            "description": "",
            "_model_name": "FloatProgressModel",
            "bar_style": "success",
            "max": 1648877,
            "_view_module": "@jupyter-widgets/controls",
            "_model_module_version": "1.5.0",
            "value": 1648877,
            "_view_count": null,
            "_view_module_version": "1.5.0",
            "orientation": "horizontal",
            "min": 0,
            "description_tooltip": null,
            "_model_module": "@jupyter-widgets/controls",
            "layout": "IPY_MODEL_1015824a7be841f5a0fc9cea01eac0d4"
          }
        },
        "028866608b694ea99b89d531bf4dd13a": {
          "model_module": "@jupyter-widgets/controls",
          "model_name": "HTMLModel",
          "model_module_version": "1.5.0",
          "state": {
            "_view_name": "HTMLView",
            "style": "IPY_MODEL_c27a5fd77304431c82bd576a7b1917b4",
            "_dom_classes": [],
            "description": "",
            "_model_name": "HTMLModel",
            "placeholder": "​",
            "_view_module": "@jupyter-widgets/controls",
            "_model_module_version": "1.5.0",
            "value": " 1649664/? [00:31&lt;00:00, 52563.74it/s]",
            "_view_count": null,
            "_view_module_version": "1.5.0",
            "description_tooltip": null,
            "_model_module": "@jupyter-widgets/controls",
            "layout": "IPY_MODEL_c1fa9941fb294f7a838d0428f991e995"
          }
        },
        "fb140d19d3df439f89c1e6fa1045efa6": {
          "model_module": "@jupyter-widgets/controls",
          "model_name": "DescriptionStyleModel",
          "model_module_version": "1.5.0",
          "state": {
            "_view_name": "StyleView",
            "_model_name": "DescriptionStyleModel",
            "description_width": "",
            "_view_module": "@jupyter-widgets/base",
            "_model_module_version": "1.5.0",
            "_view_count": null,
            "_view_module_version": "1.2.0",
            "_model_module": "@jupyter-widgets/controls"
          }
        },
        "8dbc3b139a6041f688b3fbac423adb20": {
          "model_module": "@jupyter-widgets/base",
          "model_name": "LayoutModel",
          "model_module_version": "1.2.0",
          "state": {
            "_view_name": "LayoutView",
            "grid_template_rows": null,
            "right": null,
            "justify_content": null,
            "_view_module": "@jupyter-widgets/base",
            "overflow": null,
            "_model_module_version": "1.2.0",
            "_view_count": null,
            "flex_flow": null,
            "width": null,
            "min_width": null,
            "border": null,
            "align_items": null,
            "bottom": null,
            "_model_module": "@jupyter-widgets/base",
            "top": null,
            "grid_column": null,
            "overflow_y": null,
            "overflow_x": null,
            "grid_auto_flow": null,
            "grid_area": null,
            "grid_template_columns": null,
            "flex": null,
            "_model_name": "LayoutModel",
            "justify_items": null,
            "grid_row": null,
            "max_height": null,
            "align_content": null,
            "visibility": null,
            "align_self": null,
            "height": null,
            "min_height": null,
            "padding": null,
            "grid_auto_rows": null,
            "grid_gap": null,
            "max_width": null,
            "order": null,
            "_view_module_version": "1.2.0",
            "grid_template_areas": null,
            "object_position": null,
            "object_fit": null,
            "grid_auto_columns": null,
            "margin": null,
            "display": null,
            "left": null
          }
        },
        "46dff82899c942abaf5a8b67e4097387": {
          "model_module": "@jupyter-widgets/controls",
          "model_name": "ProgressStyleModel",
          "model_module_version": "1.5.0",
          "state": {
            "_view_name": "StyleView",
            "_model_name": "ProgressStyleModel",
            "description_width": "",
            "_view_module": "@jupyter-widgets/base",
            "_model_module_version": "1.5.0",
            "_view_count": null,
            "_view_module_version": "1.2.0",
            "bar_color": null,
            "_model_module": "@jupyter-widgets/controls"
          }
        },
        "1015824a7be841f5a0fc9cea01eac0d4": {
          "model_module": "@jupyter-widgets/base",
          "model_name": "LayoutModel",
          "model_module_version": "1.2.0",
          "state": {
            "_view_name": "LayoutView",
            "grid_template_rows": null,
            "right": null,
            "justify_content": null,
            "_view_module": "@jupyter-widgets/base",
            "overflow": null,
            "_model_module_version": "1.2.0",
            "_view_count": null,
            "flex_flow": null,
            "width": null,
            "min_width": null,
            "border": null,
            "align_items": null,
            "bottom": null,
            "_model_module": "@jupyter-widgets/base",
            "top": null,
            "grid_column": null,
            "overflow_y": null,
            "overflow_x": null,
            "grid_auto_flow": null,
            "grid_area": null,
            "grid_template_columns": null,
            "flex": null,
            "_model_name": "LayoutModel",
            "justify_items": null,
            "grid_row": null,
            "max_height": null,
            "align_content": null,
            "visibility": null,
            "align_self": null,
            "height": null,
            "min_height": null,
            "padding": null,
            "grid_auto_rows": null,
            "grid_gap": null,
            "max_width": null,
            "order": null,
            "_view_module_version": "1.2.0",
            "grid_template_areas": null,
            "object_position": null,
            "object_fit": null,
            "grid_auto_columns": null,
            "margin": null,
            "display": null,
            "left": null
          }
        },
        "c27a5fd77304431c82bd576a7b1917b4": {
          "model_module": "@jupyter-widgets/controls",
          "model_name": "DescriptionStyleModel",
          "model_module_version": "1.5.0",
          "state": {
            "_view_name": "StyleView",
            "_model_name": "DescriptionStyleModel",
            "description_width": "",
            "_view_module": "@jupyter-widgets/base",
            "_model_module_version": "1.5.0",
            "_view_count": null,
            "_view_module_version": "1.2.0",
            "_model_module": "@jupyter-widgets/controls"
          }
        },
        "c1fa9941fb294f7a838d0428f991e995": {
          "model_module": "@jupyter-widgets/base",
          "model_name": "LayoutModel",
          "model_module_version": "1.2.0",
          "state": {
            "_view_name": "LayoutView",
            "grid_template_rows": null,
            "right": null,
            "justify_content": null,
            "_view_module": "@jupyter-widgets/base",
            "overflow": null,
            "_model_module_version": "1.2.0",
            "_view_count": null,
            "flex_flow": null,
            "width": null,
            "min_width": null,
            "border": null,
            "align_items": null,
            "bottom": null,
            "_model_module": "@jupyter-widgets/base",
            "top": null,
            "grid_column": null,
            "overflow_y": null,
            "overflow_x": null,
            "grid_auto_flow": null,
            "grid_area": null,
            "grid_template_columns": null,
            "flex": null,
            "_model_name": "LayoutModel",
            "justify_items": null,
            "grid_row": null,
            "max_height": null,
            "align_content": null,
            "visibility": null,
            "align_self": null,
            "height": null,
            "min_height": null,
            "padding": null,
            "grid_auto_rows": null,
            "grid_gap": null,
            "max_width": null,
            "order": null,
            "_view_module_version": "1.2.0",
            "grid_template_areas": null,
            "object_position": null,
            "object_fit": null,
            "grid_auto_columns": null,
            "margin": null,
            "display": null,
            "left": null
          }
        },
        "dbcd749551cf4a3eac70833657e71299": {
          "model_module": "@jupyter-widgets/controls",
          "model_name": "HBoxModel",
          "model_module_version": "1.5.0",
          "state": {
            "_view_name": "HBoxView",
            "_dom_classes": [],
            "_model_name": "HBoxModel",
            "_view_module": "@jupyter-widgets/controls",
            "_model_module_version": "1.5.0",
            "_view_count": null,
            "_view_module_version": "1.5.0",
            "box_style": "",
            "layout": "IPY_MODEL_bb6a8d1c83bc43dbb5ff3bd0b404deff",
            "_model_module": "@jupyter-widgets/controls",
            "children": [
              "IPY_MODEL_14c5f0fae259437680b914285bcf637b",
              "IPY_MODEL_116d45db229443be956dc9bebcbd090a",
              "IPY_MODEL_b37be5d8bbf64255b6e2e73bb51a77f0"
            ]
          }
        },
        "bb6a8d1c83bc43dbb5ff3bd0b404deff": {
          "model_module": "@jupyter-widgets/base",
          "model_name": "LayoutModel",
          "model_module_version": "1.2.0",
          "state": {
            "_view_name": "LayoutView",
            "grid_template_rows": null,
            "right": null,
            "justify_content": null,
            "_view_module": "@jupyter-widgets/base",
            "overflow": null,
            "_model_module_version": "1.2.0",
            "_view_count": null,
            "flex_flow": null,
            "width": null,
            "min_width": null,
            "border": null,
            "align_items": null,
            "bottom": null,
            "_model_module": "@jupyter-widgets/base",
            "top": null,
            "grid_column": null,
            "overflow_y": null,
            "overflow_x": null,
            "grid_auto_flow": null,
            "grid_area": null,
            "grid_template_columns": null,
            "flex": null,
            "_model_name": "LayoutModel",
            "justify_items": null,
            "grid_row": null,
            "max_height": null,
            "align_content": null,
            "visibility": null,
            "align_self": null,
            "height": null,
            "min_height": null,
            "padding": null,
            "grid_auto_rows": null,
            "grid_gap": null,
            "max_width": null,
            "order": null,
            "_view_module_version": "1.2.0",
            "grid_template_areas": null,
            "object_position": null,
            "object_fit": null,
            "grid_auto_columns": null,
            "margin": null,
            "display": null,
            "left": null
          }
        },
        "14c5f0fae259437680b914285bcf637b": {
          "model_module": "@jupyter-widgets/controls",
          "model_name": "HTMLModel",
          "model_module_version": "1.5.0",
          "state": {
            "_view_name": "HTMLView",
            "style": "IPY_MODEL_080bf93fae984b3a99fe8b16a34b4e06",
            "_dom_classes": [],
            "description": "",
            "_model_name": "HTMLModel",
            "placeholder": "​",
            "_view_module": "@jupyter-widgets/controls",
            "_model_module_version": "1.5.0",
            "value": "",
            "_view_count": null,
            "_view_module_version": "1.5.0",
            "description_tooltip": null,
            "_model_module": "@jupyter-widgets/controls",
            "layout": "IPY_MODEL_214c5336c3f942c3949a6e0e65a87ecf"
          }
        },
        "116d45db229443be956dc9bebcbd090a": {
          "model_module": "@jupyter-widgets/controls",
          "model_name": "FloatProgressModel",
          "model_module_version": "1.5.0",
          "state": {
            "_view_name": "ProgressView",
            "style": "IPY_MODEL_26561dd681424ec7879547dca21aab40",
            "_dom_classes": [],
            "description": "",
            "_model_name": "FloatProgressModel",
            "bar_style": "success",
            "max": 4542,
            "_view_module": "@jupyter-widgets/controls",
            "_model_module_version": "1.5.0",
            "value": 4542,
            "_view_count": null,
            "_view_module_version": "1.5.0",
            "orientation": "horizontal",
            "min": 0,
            "description_tooltip": null,
            "_model_module": "@jupyter-widgets/controls",
            "layout": "IPY_MODEL_fb82974388484cd1980bc1829b5b0e60"
          }
        },
        "b37be5d8bbf64255b6e2e73bb51a77f0": {
          "model_module": "@jupyter-widgets/controls",
          "model_name": "HTMLModel",
          "model_module_version": "1.5.0",
          "state": {
            "_view_name": "HTMLView",
            "style": "IPY_MODEL_5d6e2e4935644dc7a849c9f7ae29a2c4",
            "_dom_classes": [],
            "description": "",
            "_model_name": "HTMLModel",
            "placeholder": "​",
            "_view_module": "@jupyter-widgets/controls",
            "_model_module_version": "1.5.0",
            "value": " 5120/? [00:00&lt;00:00, 165274.96it/s]",
            "_view_count": null,
            "_view_module_version": "1.5.0",
            "description_tooltip": null,
            "_model_module": "@jupyter-widgets/controls",
            "layout": "IPY_MODEL_a064f5c0cf7a4969a0bbf489d8b59004"
          }
        },
        "080bf93fae984b3a99fe8b16a34b4e06": {
          "model_module": "@jupyter-widgets/controls",
          "model_name": "DescriptionStyleModel",
          "model_module_version": "1.5.0",
          "state": {
            "_view_name": "StyleView",
            "_model_name": "DescriptionStyleModel",
            "description_width": "",
            "_view_module": "@jupyter-widgets/base",
            "_model_module_version": "1.5.0",
            "_view_count": null,
            "_view_module_version": "1.2.0",
            "_model_module": "@jupyter-widgets/controls"
          }
        },
        "214c5336c3f942c3949a6e0e65a87ecf": {
          "model_module": "@jupyter-widgets/base",
          "model_name": "LayoutModel",
          "model_module_version": "1.2.0",
          "state": {
            "_view_name": "LayoutView",
            "grid_template_rows": null,
            "right": null,
            "justify_content": null,
            "_view_module": "@jupyter-widgets/base",
            "overflow": null,
            "_model_module_version": "1.2.0",
            "_view_count": null,
            "flex_flow": null,
            "width": null,
            "min_width": null,
            "border": null,
            "align_items": null,
            "bottom": null,
            "_model_module": "@jupyter-widgets/base",
            "top": null,
            "grid_column": null,
            "overflow_y": null,
            "overflow_x": null,
            "grid_auto_flow": null,
            "grid_area": null,
            "grid_template_columns": null,
            "flex": null,
            "_model_name": "LayoutModel",
            "justify_items": null,
            "grid_row": null,
            "max_height": null,
            "align_content": null,
            "visibility": null,
            "align_self": null,
            "height": null,
            "min_height": null,
            "padding": null,
            "grid_auto_rows": null,
            "grid_gap": null,
            "max_width": null,
            "order": null,
            "_view_module_version": "1.2.0",
            "grid_template_areas": null,
            "object_position": null,
            "object_fit": null,
            "grid_auto_columns": null,
            "margin": null,
            "display": null,
            "left": null
          }
        },
        "26561dd681424ec7879547dca21aab40": {
          "model_module": "@jupyter-widgets/controls",
          "model_name": "ProgressStyleModel",
          "model_module_version": "1.5.0",
          "state": {
            "_view_name": "StyleView",
            "_model_name": "ProgressStyleModel",
            "description_width": "",
            "_view_module": "@jupyter-widgets/base",
            "_model_module_version": "1.5.0",
            "_view_count": null,
            "_view_module_version": "1.2.0",
            "bar_color": null,
            "_model_module": "@jupyter-widgets/controls"
          }
        },
        "fb82974388484cd1980bc1829b5b0e60": {
          "model_module": "@jupyter-widgets/base",
          "model_name": "LayoutModel",
          "model_module_version": "1.2.0",
          "state": {
            "_view_name": "LayoutView",
            "grid_template_rows": null,
            "right": null,
            "justify_content": null,
            "_view_module": "@jupyter-widgets/base",
            "overflow": null,
            "_model_module_version": "1.2.0",
            "_view_count": null,
            "flex_flow": null,
            "width": null,
            "min_width": null,
            "border": null,
            "align_items": null,
            "bottom": null,
            "_model_module": "@jupyter-widgets/base",
            "top": null,
            "grid_column": null,
            "overflow_y": null,
            "overflow_x": null,
            "grid_auto_flow": null,
            "grid_area": null,
            "grid_template_columns": null,
            "flex": null,
            "_model_name": "LayoutModel",
            "justify_items": null,
            "grid_row": null,
            "max_height": null,
            "align_content": null,
            "visibility": null,
            "align_self": null,
            "height": null,
            "min_height": null,
            "padding": null,
            "grid_auto_rows": null,
            "grid_gap": null,
            "max_width": null,
            "order": null,
            "_view_module_version": "1.2.0",
            "grid_template_areas": null,
            "object_position": null,
            "object_fit": null,
            "grid_auto_columns": null,
            "margin": null,
            "display": null,
            "left": null
          }
        },
        "5d6e2e4935644dc7a849c9f7ae29a2c4": {
          "model_module": "@jupyter-widgets/controls",
          "model_name": "DescriptionStyleModel",
          "model_module_version": "1.5.0",
          "state": {
            "_view_name": "StyleView",
            "_model_name": "DescriptionStyleModel",
            "description_width": "",
            "_view_module": "@jupyter-widgets/base",
            "_model_module_version": "1.5.0",
            "_view_count": null,
            "_view_module_version": "1.2.0",
            "_model_module": "@jupyter-widgets/controls"
          }
        },
        "a064f5c0cf7a4969a0bbf489d8b59004": {
          "model_module": "@jupyter-widgets/base",
          "model_name": "LayoutModel",
          "model_module_version": "1.2.0",
          "state": {
            "_view_name": "LayoutView",
            "grid_template_rows": null,
            "right": null,
            "justify_content": null,
            "_view_module": "@jupyter-widgets/base",
            "overflow": null,
            "_model_module_version": "1.2.0",
            "_view_count": null,
            "flex_flow": null,
            "width": null,
            "min_width": null,
            "border": null,
            "align_items": null,
            "bottom": null,
            "_model_module": "@jupyter-widgets/base",
            "top": null,
            "grid_column": null,
            "overflow_y": null,
            "overflow_x": null,
            "grid_auto_flow": null,
            "grid_area": null,
            "grid_template_columns": null,
            "flex": null,
            "_model_name": "LayoutModel",
            "justify_items": null,
            "grid_row": null,
            "max_height": null,
            "align_content": null,
            "visibility": null,
            "align_self": null,
            "height": null,
            "min_height": null,
            "padding": null,
            "grid_auto_rows": null,
            "grid_gap": null,
            "max_width": null,
            "order": null,
            "_view_module_version": "1.2.0",
            "grid_template_areas": null,
            "object_position": null,
            "object_fit": null,
            "grid_auto_columns": null,
            "margin": null,
            "display": null,
            "left": null
          }
        }
      }
    }
  },
  "cells": [
    {
      "cell_type": "markdown",
      "metadata": {
        "id": "ybQm1ajSFfia"
      },
      "source": [
        "**MNIST를 이용한 LeNet-5 구현**"
      ]
    },
    {
      "cell_type": "markdown",
      "metadata": {
        "id": "P2JOj_Y2YpnJ"
      },
      "source": [
        "LeNet-5는 1998년 Yann LeCun이 publish한 Gradient-Based Learning Applied to Document Recognition의 논문을 바탕으로한 초기의 Convolutional Neural Network 구조이다.\n",
        "\n",
        "LeNet-5는 7개의 layer로 이루어진 CNN이고, 32x32 pixel 크기의 흑백 이미지를 input으로 사용하였다.![LeNet-5.png](data:image/png;base64,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)\n",
        " \n"
      ]
    },
    {
      "cell_type": "markdown",
      "metadata": {
        "id": "tU72mHziaXLI"
      },
      "source": [
        "첫번째 Layer는 C1:Convolutional Layer로 6개의 output channel로 구성되어있고, kernel size=5x5, stride=1을 사용하였다. 첫번째 Layer를 통과하면 1x32x32  ->  6x28x28  로 크기가 바뀌게 된다.\n",
        "\n",
        "두번째 Layer는 S2:Subsampling Layer로 max나 average pooling을 주로 사용한다. kernel size는 2x2, stride=2를 사용하였다. 두번째 Layer를 통과하면  6x28x28 -> 6x14x14의 크기가 된다.\n",
        "\n",
        "세번째 Layer는 C3:Convolutional Layer로 16개의 output cahnnel로 구성되고, kernel size와 stride는 C1과 동일하게 사용하였다. 세번째 Layer를 통과하면 6x14x14 -> 16x10x10의 크기가 된다.\n",
        "\n",
        "네번째 Layer는 S4:Subsampling Layer로, S2와 같은 kernel size와 stride를 사용하였다. 네번째 Layer를 통과하면 16x10x10 -> 16x5x5 가 된다.\n",
        "\n",
        "다섯번째 Layer는 C5:Convolutional Layer로 120개의 output channel로 구성된다. kernel size는 C1, C2와 동일하며, 이 Layer를 통과하면 16x5x5 -> 120x1x1이 된다.\n",
        "\n",
        "여섯번째 Layer는 F6:Fully Connected Layer로 84개의 노드를 output으로 가지며, 이 논문에서는 tahn를 activation function으로 사용하였다.\n",
        "\n",
        "일곱번째 Layer는 Output Layer로 10개의 output node를 갖는다.\n",
        "\n",
        "**** \n",
        "Convolutional layer의 output size는 \n",
        "\n",
        "(W - F + 2P) / S + 1 \n",
        "\n",
        "의 식을 사용하여 계산할 수 있다.. W는 input 이미지의 width/height 크기이며, F는 kernel(filter) size, P는 padding, 그리고 S는 stride를 의미한다.\n",
        "\n",
        "\n",
        "\n",
        "\n"
      ]
    },
    {
      "cell_type": "code",
      "metadata": {
        "id": "wph20jiIffkO"
      },
      "source": [
        ""
      ],
      "execution_count": null,
      "outputs": []
    },
    {
      "cell_type": "markdown",
      "metadata": {
        "id": "B2Es9iEuP28g"
      },
      "source": [
        "\n",
        "**Pytorch를 이용해서 LeNet-5 구현해보기**\n",
        "\n",
        "\n"
      ]
    },
    {
      "cell_type": "markdown",
      "metadata": {
        "id": "LXU5anZ-fkLo"
      },
      "source": [
        "LeNet-5의 구현을 위해 MNIST dataset을 활용한다.\n"
      ]
    },
    {
      "cell_type": "code",
      "metadata": {
        "id": "hvV0Ilc-fqtk"
      },
      "source": [
        "# 먼저 필요한 Library를 import한다.\n",
        "\n",
        "import numpy as np\n",
        "\n",
        "import torch\n",
        "from torch import nn\n",
        "import torch.nn.functional as F\n",
        "from torch import optim\n",
        "from torch.utils.data import DataLoader\n",
        "\n",
        "from torchvision import datasets \n",
        "import torchvision.transforms as transforms\n",
        "from torchvision import utils\n",
        "\n",
        "import matplotlib.pyplot as plt\n",
        "%matplotlib inline\n",
        "\n",
        "# 필요한 parameter를 미리 세팅한다.\n",
        "random_seed=4\n",
        "learning_rate=0.001\n",
        "batch_size=32\n",
        "epochs=10\n",
        "\n",
        "image_size=32\n",
        "n_classes=10  # 숫자 10개 0~9\n",
        "\n",
        "DEVICE='cuda' if torch.cuda.is_available() else 'cpu'"
      ],
      "execution_count": 1,
      "outputs": []
    },
    {
      "cell_type": "markdown",
      "metadata": {
        "id": "aKNW278ig688"
      },
      "source": [
        "MNIST dataset은 torchvision을 통해 다운로드 받을 수 있다."
      ]
    },
    {
      "cell_type": "code",
      "metadata": {
        "id": "Joc5Tbi3Fd5c",
        "colab": {
          "base_uri": "https://localhost:8080/",
          "height": 489,
          "referenced_widgets": [
            "3acb627e54264684839cb91aa62fbd05",
            "f726594c037c477eb8741e335ea9ef51",
            "3ce6ff08e32948c2892915a9deec79ea",
            "0836b96a6feb4e9f83b55e1b1407d290",
            "18671933f35b424aa42c3dd39ad8b0ae",
            "b4ea5cef492d4f5aa8b935f4a4e81cd9",
            "e9d7ef576c2344c8ba9ee28782e6d21c",
            "bf8f1e1c82fe486ca62eb0449b0e984a",
            "0186e3e4355743088646ee778e92cf6a",
            "ac171e02fb9548948e51c9ce0d2eece6",
            "8cd493e103ba4880a97db2bfcf495659",
            "3956eaa7a9d649518b6b2dbfa778e09c",
            "006c5425091f4d3ebbf4606b8f121dd5",
            "33cbb3b69b18496689be5e0eae9939a1",
            "a311e6e2987848f5b020de6a5cdc2a84",
            "6a668a53ba97447db6c58eaefaca0ae1",
            "172483eed2e241a1b3e3a25a669843c6",
            "f37c8b1a60fe4d2a8becae4628290634",
            "e5ffd149e57c4634831e1053b70483e6",
            "b045ce0a03e2479aa5042747637e3c2b",
            "bc06b74dc0184d0ba341f8a8c356e212",
            "77aae6f0597847b3a051d7fc5fe5aa0c",
            "193d0e3ef3524f13876cb7dad865b8c0",
            "94e7f5f4e3f94fb8ab602b18d31c889a",
            "7029231b3d5e448280260a227d3ad165",
            "ee8e486dc1be4ca8a3485f3768f0636f",
            "028866608b694ea99b89d531bf4dd13a",
            "fb140d19d3df439f89c1e6fa1045efa6",
            "8dbc3b139a6041f688b3fbac423adb20",
            "46dff82899c942abaf5a8b67e4097387",
            "1015824a7be841f5a0fc9cea01eac0d4",
            "c27a5fd77304431c82bd576a7b1917b4",
            "c1fa9941fb294f7a838d0428f991e995",
            "dbcd749551cf4a3eac70833657e71299",
            "bb6a8d1c83bc43dbb5ff3bd0b404deff",
            "14c5f0fae259437680b914285bcf637b",
            "116d45db229443be956dc9bebcbd090a",
            "b37be5d8bbf64255b6e2e73bb51a77f0",
            "080bf93fae984b3a99fe8b16a34b4e06",
            "214c5336c3f942c3949a6e0e65a87ecf",
            "26561dd681424ec7879547dca21aab40",
            "fb82974388484cd1980bc1829b5b0e60",
            "5d6e2e4935644dc7a849c9f7ae29a2c4",
            "a064f5c0cf7a4969a0bbf489d8b59004"
          ]
        },
        "outputId": "7e9c641e-8665-49c0-a560-6840c9e06479"
      },
      "source": [
        "# transform을 이용해서 우리가 원하는 형태의 data를 얻을 있게 변형시켜준다.\n",
        "# transform.Compose()\n",
        "# transfomr.Resize()는 mnist 이미지의 size를 변경해준다. LeNet-5 input은 32x32이다.\n",
        "# transform.ToTensor()는 0~255 범위인 H x W x C 형태의 numpy array를 0.0~1.0 범위인 C x H x W 형태의 Tensor로 변환해준다.\n",
        "# transfomr.Compose()는 transform.xxx인 함수들을 한번에 묶어서 처리시켜준다.\n",
        "transforms=transforms.Compose([transforms.Resize((32,32)),transforms.ToTensor()])\n",
        "\n",
        "# data 다운로드하기 \n",
        "dataPath='./MNIST_DATASET'   # 다운받을 곳의 path 정의\n",
        "train_data=datasets.MNIST(dataPath, train=True, transform=transforms, download=True)  # traindataset\n",
        "valid_data=datasets.MNIST(dataPath, train=False, transform=transforms) # validation dataset\n",
        "\n",
        "# dataloader는 dataset을 batch size 만큼씩 나누어준다.\n",
        "train_loader=DataLoader(train_data, batch_size=batch_size, shuffle=True)\n",
        "valid_loader=DataLoader(valid_data, batch_size=batch_size, shuffle=False)"
      ],
      "execution_count": 2,
      "outputs": [
        {
          "output_type": "stream",
          "text": [
            "Downloading http://yann.lecun.com/exdb/mnist/train-images-idx3-ubyte.gz\n",
            "Downloading http://yann.lecun.com/exdb/mnist/train-images-idx3-ubyte.gz to ./MNIST_DATASET/MNIST/raw/train-images-idx3-ubyte.gz\n"
          ],
          "name": "stdout"
        },
        {
          "output_type": "display_data",
          "data": {
            "application/vnd.jupyter.widget-view+json": {
              "model_id": "3acb627e54264684839cb91aa62fbd05",
              "version_minor": 0,
              "version_major": 2
            },
            "text/plain": [
              "  0%|          | 0/9912422 [00:00<?, ?it/s]"
            ]
          },
          "metadata": {
            "tags": []
          }
        },
        {
          "output_type": "stream",
          "text": [
            "Extracting ./MNIST_DATASET/MNIST/raw/train-images-idx3-ubyte.gz to ./MNIST_DATASET/MNIST/raw\n",
            "\n",
            "Downloading http://yann.lecun.com/exdb/mnist/train-labels-idx1-ubyte.gz\n",
            "Downloading http://yann.lecun.com/exdb/mnist/train-labels-idx1-ubyte.gz to ./MNIST_DATASET/MNIST/raw/train-labels-idx1-ubyte.gz\n"
          ],
          "name": "stdout"
        },
        {
          "output_type": "display_data",
          "data": {
            "application/vnd.jupyter.widget-view+json": {
              "model_id": "3956eaa7a9d649518b6b2dbfa778e09c",
              "version_minor": 0,
              "version_major": 2
            },
            "text/plain": [
              "  0%|          | 0/28881 [00:00<?, ?it/s]"
            ]
          },
          "metadata": {
            "tags": []
          }
        },
        {
          "output_type": "stream",
          "text": [
            "Extracting ./MNIST_DATASET/MNIST/raw/train-labels-idx1-ubyte.gz to ./MNIST_DATASET/MNIST/raw\n",
            "\n",
            "Downloading http://yann.lecun.com/exdb/mnist/t10k-images-idx3-ubyte.gz\n",
            "Downloading http://yann.lecun.com/exdb/mnist/t10k-images-idx3-ubyte.gz to ./MNIST_DATASET/MNIST/raw/t10k-images-idx3-ubyte.gz\n"
          ],
          "name": "stdout"
        },
        {
          "output_type": "display_data",
          "data": {
            "application/vnd.jupyter.widget-view+json": {
              "model_id": "193d0e3ef3524f13876cb7dad865b8c0",
              "version_minor": 0,
              "version_major": 2
            },
            "text/plain": [
              "  0%|          | 0/1648877 [00:00<?, ?it/s]"
            ]
          },
          "metadata": {
            "tags": []
          }
        },
        {
          "output_type": "stream",
          "text": [
            "Extracting ./MNIST_DATASET/MNIST/raw/t10k-images-idx3-ubyte.gz to ./MNIST_DATASET/MNIST/raw\n",
            "\n",
            "Downloading http://yann.lecun.com/exdb/mnist/t10k-labels-idx1-ubyte.gz\n",
            "Downloading http://yann.lecun.com/exdb/mnist/t10k-labels-idx1-ubyte.gz to ./MNIST_DATASET/MNIST/raw/t10k-labels-idx1-ubyte.gz\n"
          ],
          "name": "stdout"
        },
        {
          "output_type": "display_data",
          "data": {
            "application/vnd.jupyter.widget-view+json": {
              "model_id": "dbcd749551cf4a3eac70833657e71299",
              "version_minor": 0,
              "version_major": 2
            },
            "text/plain": [
              "  0%|          | 0/4542 [00:00<?, ?it/s]"
            ]
          },
          "metadata": {
            "tags": []
          }
        },
        {
          "output_type": "stream",
          "text": [
            "Extracting ./MNIST_DATASET/MNIST/raw/t10k-labels-idx1-ubyte.gz to ./MNIST_DATASET/MNIST/raw\n",
            "\n"
          ],
          "name": "stdout"
        },
        {
          "output_type": "stream",
          "text": [
            "/usr/local/lib/python3.7/dist-packages/torchvision/datasets/mnist.py:498: UserWarning: The given NumPy array is not writeable, and PyTorch does not support non-writeable tensors. This means you can write to the underlying (supposedly non-writeable) NumPy array using the tensor. You may want to copy the array to protect its data or make it writeable before converting it to a tensor. This type of warning will be suppressed for the rest of this program. (Triggered internally at  /pytorch/torch/csrc/utils/tensor_numpy.cpp:180.)\n",
            "  return torch.from_numpy(parsed.astype(m[2], copy=False)).view(*s)\n"
          ],
          "name": "stderr"
        }
      ]
    },
    {
      "cell_type": "code",
      "metadata": {
        "id": "SQ3OJEDXNkrX"
      },
      "source": [
        "x_train, y_train=train_data.data, train_data.targets  # train_data의 이미지 데이터와 그 데이터의 groundtruth\n",
        "x_valid, y_valid=valid_data.data, valid_data.targets  # valid data의 데이터와 target\n"
      ],
      "execution_count": 3,
      "outputs": []
    },
    {
      "cell_type": "code",
      "metadata": {
        "colab": {
          "base_uri": "https://localhost:8080/",
          "height": 301
        },
        "id": "15sDbky9Pql6",
        "outputId": "2cf62c2b-d1b1-487d-ea49-c9b48d94dd1a"
      },
      "source": [
        "print(x_train.shape)\n",
        "plt.imshow(x_train[0])   # sample mnist 이미지"
      ],
      "execution_count": 4,
      "outputs": [
        {
          "output_type": "stream",
          "text": [
            "torch.Size([60000, 28, 28])\n"
          ],
          "name": "stdout"
        },
        {
          "output_type": "execute_result",
          "data": {
            "text/plain": [
              "<matplotlib.image.AxesImage at 0x7fc19e449510>"
            ]
          },
          "metadata": {
            "tags": []
          },
          "execution_count": 4
        },
        {
          "output_type": "display_data",
          "data": {
            "image/png": "[encoded data removed]",
            "text/plain": [
              "<Figure size 432x288 with 1 Axes>"
            ]
          },
          "metadata": {
            "tags": [],
            "needs_background": "light"
          }
        }
      ]
    },
    {
      "cell_type": "markdown",
      "metadata": {
        "id": "ZvUAJl8kP_Od"
      },
      "source": [
        "LeNet-5 구현하기"
      ]
    },
    {
      "cell_type": "code",
      "metadata": {
        "id": "Ppx5Y22cPxqO"
      },
      "source": [
        "class LeNet(nn.Module):  # nn.module에서 pytorch를 이용한 Neural Network의 여러 모델을 사용할 수 있음\n",
        "  def __init__(self, n_classes):  # __init__()으로 LeNet class의 input variables를 세팅함.\n",
        "    super().__init__()    \n",
        "   \n",
        "    self.conv1=nn.Conv2d(in_channels=1, out_channels= 6, kernel_size=5, stride=1)   # 위에서 봤듯이 MNIST input image는 32x32임.\n",
        "                                                                                    # MNIST는 흑백 이미지이므로 1임. 따라서  input_channel은 1x32x32이 됨.\n",
        "                                                                                    # 6은 output channel 수를 의미하고, 임의로 내가 정해줌.\n",
        "                                                                                    # kernel_size(filter) = 5x5로 내가 임의로 정함.\n",
        "                                                                                    # stride는 kernel이 이동하는 칸 수를 의미하고 여기서 1로 내가 임이로 정함.\n",
        "                                                                                    # 이 convolution layer를 지나면 1x32x32 ->  6x28x28가 됨.\n",
        "                                                                                    # 6은 output channel에 의한 크기이고,\n",
        "                                                                                    # 28x28은 5x5필터와 stride=1를 이용해서 (28-kernelsize)/stride +1에 의해 계산됨.\n",
        "                                                                                    #((32-5)/1 +1) x ((32-5)/1+1)  = 28 x 28 에 의해서 생성됨\n",
        "\n",
        "\n",
        "    self.max_pool1=nn.MaxPool2d(2,2)           # max pooling(2)는 2개의 픽셀마다 한 개의 큰 값만 뽑아서 사용함.\n",
        "                                               # kernel_size=2 이고, stride는 2임.\n",
        "                                               # (28-2)/2+1 x (28-2)/2+1 로 14x14가 됨\n",
        "                                               # maxpooling을 하면  6x28x28 -> 6x14x14 가 됨\n",
        "\n",
        "    self.conv2=nn.Conv2d(6, 16, 5, 1)          # 앞의 크기는 6x14x14이므로, conv2의 input에는 6을 넣어줌.\n",
        "                                               # 16은 output channel 수 임.\n",
        "                                               # kernel size는 5x5이고 stride=1임.\n",
        "                                               # (14-5)/1 +1 = 10\n",
        "                                               # 이 convolution layer를 지나면 6x14x14 -> 16x10x10이 됨                                              \n",
        "\n",
        "    self.max_pool2=nn.MaxPool2d(2,2)            # MaxPool2d(2)이므로 역시 반으로 줄어듬\n",
        "                                               # (10-2)/2+1 = 5 \n",
        "                                               # 16x10x10 -> 16x5x5   \n",
        "\n",
        "    self.conv3=nn.Conv2d(16, 120, 5, 1)        # 앞의 크기는 16x5x5이므로, conv2의 input에는 16을 넣어줌.\n",
        "                                               # 120은 output channel 수 임.\n",
        "                                               # kernel size는 5x5이고 stride=1임.\n",
        "                                               # (5-5)/1 +1 = 1\n",
        "                                               # 이 convolution layer를 지나면 16x5x5 -> 120x1x1이 됨  \n",
        "\n",
        "                                                                                  \n",
        "                                                   \n",
        "\n",
        "    # y= Wx+b 연산\n",
        "    self.fc1=nn.Linear(in_features=120, out_features= 84)  # conv에서 넘어온 input 120개 node -> 84개 output node\n",
        "    self.fc2=nn.Linear(84,n_classes)     # 84개 output node -> 10개의 output node (n_classes)\n",
        "                                         # output이 10개인 이유는 MNIST가 숫자이므로 0~9까지 총 10개이기 때문이다.\n",
        "    \n",
        "  def forward(self, x):\n",
        "    \n",
        "    x=F.tanh(self.conv1(x))   # 1x32x32 -> 6x28x28   # LeNet-5 에서는 tanh를 activation function으로 사용했다.    \n",
        "    x=self.max_pool1(x)       # 6x28x28 -> 6x14x14\n",
        "    x=F.tanh(self.conv2(x))   # 6x14x14 -> 16x10x10\n",
        "    x=self.max_pool2(x)       # 16x10x10 -> 16x5x5 \n",
        "    x=F.tanh(self.conv3(x))   # 16x5x5 -> 120x1x1\n",
        "    x=x.view(-1, 120)         \n",
        "    x=F.tanh(self.fc1(x))     # 120 -> 84\n",
        "    x=self.fc2(x)             # 84-> 10\n",
        "\n",
        "    return F.softmax(x, dim=1)\n"
      ],
      "execution_count": 5,
      "outputs": []
    },
    {
      "cell_type": "code",
      "metadata": {
        "id": "XYeWsIF1lFXj"
      },
      "source": [
        "torch.manual_seed(random_seed)\n",
        "model=LeNet(n_classes).to(DEVICE)"
      ],
      "execution_count": 6,
      "outputs": []
    },
    {
      "cell_type": "code",
      "metadata": {
        "colab": {
          "base_uri": "https://localhost:8080/"
        },
        "id": "61m6KwjNymBW",
        "outputId": "e1d8edbd-73bf-4a59-83bb-9571b2211b33"
      },
      "source": [
        "print(model)"
      ],
      "execution_count": 7,
      "outputs": [
        {
          "output_type": "stream",
          "text": [
            "LeNet(\n",
            "  (conv1): Conv2d(1, 6, kernel_size=(5, 5), stride=(1, 1))\n",
            "  (max_pool1): MaxPool2d(kernel_size=2, stride=2, padding=0, dilation=1, ceil_mode=False)\n",
            "  (conv2): Conv2d(6, 16, kernel_size=(5, 5), stride=(1, 1))\n",
            "  (max_pool2): MaxPool2d(kernel_size=2, stride=2, padding=0, dilation=1, ceil_mode=False)\n",
            "  (conv3): Conv2d(16, 120, kernel_size=(5, 5), stride=(1, 1))\n",
            "  (fc1): Linear(in_features=120, out_features=84, bias=True)\n",
            "  (fc2): Linear(in_features=84, out_features=10, bias=True)\n",
            ")\n"
          ],
          "name": "stdout"
        }
      ]
    },
    {
      "cell_type": "code",
      "metadata": {
        "colab": {
          "base_uri": "https://localhost:8080/"
        },
        "id": "_AlTxfHeqjUD",
        "outputId": "7a16def5-2bf2-41e4-be2b-4abc6c92f916"
      },
      "source": [
        "from torchsummary import summary\n",
        "summary(model, input_size=(1,32,32))"
      ],
      "execution_count": 8,
      "outputs": [
        {
          "output_type": "stream",
          "text": [
            "----------------------------------------------------------------\n",
            "        Layer (type)               Output Shape         Param #\n",
            "================================================================\n",
            "            Conv2d-1            [-1, 6, 28, 28]             156\n",
            "         MaxPool2d-2            [-1, 6, 14, 14]               0\n",
            "            Conv2d-3           [-1, 16, 10, 10]           2,416\n",
            "         MaxPool2d-4             [-1, 16, 5, 5]               0\n",
            "            Conv2d-5            [-1, 120, 1, 1]          48,120\n",
            "            Linear-6                   [-1, 84]          10,164\n",
            "            Linear-7                   [-1, 10]             850\n",
            "================================================================\n",
            "Total params: 61,706\n",
            "Trainable params: 61,706\n",
            "Non-trainable params: 0\n",
            "----------------------------------------------------------------\n",
            "Input size (MB): 0.00\n",
            "Forward/backward pass size (MB): 0.06\n",
            "Params size (MB): 0.24\n",
            "Estimated Total Size (MB): 0.30\n",
            "----------------------------------------------------------------\n"
          ],
          "name": "stdout"
        },
        {
          "output_type": "stream",
          "text": [
            "/usr/local/lib/python3.7/dist-packages/torch/nn/functional.py:1794: UserWarning: nn.functional.tanh is deprecated. Use torch.tanh instead.\n",
            "  warnings.warn(\"nn.functional.tanh is deprecated. Use torch.tanh instead.\")\n",
            "/usr/local/lib/python3.7/dist-packages/torch/nn/functional.py:718: UserWarning: Named tensors and all their associated APIs are an experimental feature and subject to change. Please do not use them for anything important until they are released as stable. (Triggered internally at  /pytorch/c10/core/TensorImpl.h:1156.)\n",
            "  return torch.max_pool2d(input, kernel_size, stride, padding, dilation, ceil_mode)\n"
          ],
          "name": "stderr"
        }
      ]
    },
    {
      "cell_type": "markdown",
      "metadata": {
        "id": "lxDqBNAPxdq9"
      },
      "source": [
        "Train"
      ]
    },
    {
      "cell_type": "code",
      "metadata": {
        "id": "h_oH4PRWkXgX"
      },
      "source": [
        "optimizer=optim.Adam(model.parameters(), lr=0.001)\n",
        "criterion=nn.CrossEntropyLoss()"
      ],
      "execution_count": 9,
      "outputs": []
    },
    {
      "cell_type": "code",
      "metadata": {
        "id": "hJYUprPWlgKo"
      },
      "source": [
        "def train(train_loader, model, criterion, optimizer, device):\n",
        "  model.train()\n",
        "  running_loss=0\n",
        "  count=0\n",
        "  correct=0\n",
        "\n",
        "  for batch in train_loader:\n",
        "    X=batch[0]      # 이미지 data\n",
        "    y_true=batch[1]   # ground truth\n",
        "\n",
        "    X=X.to(device)\n",
        "    y_true=y_true.to(device)\n",
        "   \n",
        "    # Forward\n",
        "    y_pred=model(X)\n",
        "    loss=criterion(y_pred, y_true)\n",
        "    running_loss += loss.item()*X.size(0)\n",
        "    batch_correct=torch.argmax(y_pred, dim=1).eq(y_true).sum().item() \n",
        "    batch_count=len(X)\n",
        "    \n",
        "\n",
        "    # Backward\n",
        "    optimizer.zero_grad()  #  back propagation 이전에 gradient를 0을 세팅함.\n",
        "    loss.backward()        # back propagation\n",
        "    optimizer.step()       # update parameter\n",
        "\n",
        "    count+=batch_count\n",
        "    correct+=batch_correct\n",
        "\n",
        "  epoch_loss=running_loss / len(train_loader.dataset)\n",
        "  epoch_accuracy=correct/count\n",
        "  return model, optimizer, epoch_loss, epoch_accuracy"
      ],
      "execution_count": 10,
      "outputs": []
    },
    {
      "cell_type": "code",
      "metadata": {
        "id": "ImwezWkHmf1B"
      },
      "source": [
        "def evaluation(valid_loader, model, criterion, device):\n",
        "  model.eval()\n",
        "  running_loss=0\n",
        "  count=0\n",
        "  correct=0\n",
        "\n",
        "  for batch in valid_loader:\n",
        "    X=batch[0]\n",
        "    y_true=batch[1]\n",
        "\n",
        "    X=X.to(device)\n",
        "    y_true=y_true.to(device)\n",
        "\n",
        "    # Forward\n",
        "    y_pred=model(X)\n",
        "    loss=criterion(y_pred, y_true)\n",
        "    batch_correct=torch.argmax(y_pred, dim=1).eq(y_true).sum().item()\n",
        "    batch_count=len(X)\n",
        "    running_loss+=loss.item()*X.size(0)\n",
        "\n",
        "    count+=batch_count\n",
        "    correct+=batch_correct\n",
        "\n",
        "\n",
        "  epoch_loss=running_loss/len(valid_loader.dataset)\n",
        "  epoch_accuracy=correct/count  \n",
        "\n",
        "  return model, epoch_loss, epoch_accuracy\n",
        "\n"
      ],
      "execution_count": 11,
      "outputs": []
    },
    {
      "cell_type": "code",
      "metadata": {
        "id": "rhlLOwngn1Pb"
      },
      "source": [
        "def training_loop(model, criterion, optimizer, train_loader, valid_loader, epochs, device):\n",
        "  \n",
        "  train_losses=[]\n",
        "  valid_losses=[]\n",
        "\n",
        "  train_accuracies=[]\n",
        "  valid_accuracies=[]\n",
        "\n",
        "  for epoch in range(epochs):\n",
        "\n",
        "    # training\n",
        "    model, optimizer, train_loss, train_accuracy=train(train_loader, model, criterion, optimizer, device)\n",
        "    train_losses.append(train_loss)\n",
        "    train_accuracies.append(train_accuracy)\n",
        "\n",
        "    # validation\n",
        "    with torch.no_grad():    # autograd를 꺼준다. autograd를 끄면 더 이상 자동으로 gradient를 계산 및 저장하지 않는다.(메모리 save)\n",
        "      model, valid_loss, valid_accuracy=evaluation(valid_loader, model, criterion,device)\n",
        "      valid_losses.append(valid_loss)\n",
        "      valid_accuracies.append(valid_accuracy)\n",
        "\n",
        "    if epoch%2==0:\n",
        "      print('epoch: ', epoch, 'train_loss: ', train_loss, 'valid_loss: ', valid_loss)\n",
        "      print('          train accuracy: ', train_accuracy, 'valid accuracy: ', valid_accuracy)\n",
        "\n",
        "  return (train_losses, valid_losses), (train_accuracies, valid_accuracies)\n",
        "\n"
      ],
      "execution_count": 12,
      "outputs": []
    },
    {
      "cell_type": "code",
      "metadata": {
        "colab": {
          "base_uri": "https://localhost:8080/"
        },
        "id": "38-CjJbBqMbY",
        "outputId": "cbe11f28-a7f0-4151-81b5-d758562fe99e"
      },
      "source": [
        "(tr_loss, val_loss), (tr_acc, val_acc)=training_loop(model, criterion, optimizer, train_loader, valid_loader, epochs, DEVICE)"
      ],
      "execution_count": 13,
      "outputs": [
        {
          "output_type": "stream",
          "text": [
            "/usr/local/lib/python3.7/dist-packages/torch/nn/functional.py:1794: UserWarning: nn.functional.tanh is deprecated. Use torch.tanh instead.\n",
            "  warnings.warn(\"nn.functional.tanh is deprecated. Use torch.tanh instead.\")\n"
          ],
          "name": "stderr"
        },
        {
          "output_type": "stream",
          "text": [
            "epoch:  0 train_loss:  1.539416940498352 valid_loss:  1.4870478466033936\n",
            "          train accuracy:  0.9323166666666667 valid accuracy:  0.9763\n",
            "epoch:  2 train_loss:  1.4806231486002603 valid_loss:  1.4808835357666015\n",
            "          train accuracy:  0.9817833333333333 valid accuracy:  0.9806\n",
            "epoch:  4 train_loss:  1.4750391259511313 valid_loss:  1.4771576303482055\n",
            "          train accuracy:  0.9871166666666666 valid accuracy:  0.9845\n",
            "epoch:  6 train_loss:  1.4734322251637777 valid_loss:  1.4765405124664306\n",
            "          train accuracy:  0.9882 valid accuracy:  0.985\n",
            "epoch:  8 train_loss:  1.4710727668762207 valid_loss:  1.4758518756866454\n",
            "          train accuracy:  0.99065 valid accuracy:  0.9853\n"
          ],
          "name": "stdout"
        }
      ]
    },
    {
      "cell_type": "markdown",
      "metadata": {
        "id": "LdGCS_LWXgrM"
      },
      "source": [
        "10번의 epoch 임에도 정확도가 97~98%로 굉장히 높게 나왔다."
      ]
    },
    {
      "cell_type": "markdown",
      "metadata": {
        "id": "mZHB1DASggu_"
      },
      "source": [
        "참고\n",
        "\n",
        "https://towardsdatascience.com/implementing-yann-lecuns-lenet-5-in-pytorch-5e05a0911320"
      ]
    }
  ]
}
