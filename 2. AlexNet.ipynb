{ 
  "nbformat": 4,
  "nbformat_minor": 0,
  "metadata": {
    "colab": {
      "name": "AlexNet",
      "provenance": []
    },
    "kernelspec": {
      "name": "python3",
      "display_name": "Python 3"
    },
    "language_info": {
      "name": "python"
    },
    "widgets": {
      "application/vnd.jupyter.widget-state+json": {
        "c67f0cf68bf1489f9b6fe85c764a2e54": {
          "model_module": "@jupyter-widgets/controls",
          "model_name": "HBoxModel",
          "model_module_version": "1.5.0",
          "state": {
            "_view_name": "HBoxView",
            "_dom_classes": [],
            "_model_name": "HBoxModel",
            "_view_module": "@jupyter-widgets/controls",
            "_model_module_version": "1.5.0",
            "_view_count": null,
            "_view_module_version": "1.5.0",
            "box_style": "",
            "layout": "IPY_MODEL_e4e9ea1ddfba42e8a9b778a12ea0a3ad",
            "_model_module": "@jupyter-widgets/controls",
            "children": [
              "IPY_MODEL_6c32f639fcd246bb8a3efea63f8bc992",
              "IPY_MODEL_603900e9ee8d45aba65d6abda1665410",
              "IPY_MODEL_a28febbb3f43422496c2bfe63b5a9886"
            ]
          }
        },
        "e4e9ea1ddfba42e8a9b778a12ea0a3ad": {
          "model_module": "@jupyter-widgets/base",
          "model_name": "LayoutModel",
          "model_module_version": "1.2.0",
          "state": {
            "_view_name": "LayoutView",
            "grid_template_rows": null,
            "right": null,
            "justify_content": null,
            "_view_module": "@jupyter-widgets/base",
            "overflow": null,
            "_model_module_version": "1.2.0",
            "_view_count": null,
            "flex_flow": null,
            "width": null,
            "min_width": null,
            "border": null,
            "align_items": null,
            "bottom": null,
            "_model_module": "@jupyter-widgets/base",
            "top": null,
            "grid_column": null,
            "overflow_y": null,
            "overflow_x": null,
            "grid_auto_flow": null,
            "grid_area": null,
            "grid_template_columns": null,
            "flex": null,
            "_model_name": "LayoutModel",
            "justify_items": null,
            "grid_row": null,
            "max_height": null,
            "align_content": null,
            "visibility": null,
            "align_self": null,
            "height": null,
            "min_height": null,
            "padding": null,
            "grid_auto_rows": null,
            "grid_gap": null,
            "max_width": null,
            "order": null,
            "_view_module_version": "1.2.0",
            "grid_template_areas": null,
            "object_position": null,
            "object_fit": null,
            "grid_auto_columns": null,
            "margin": null,
            "display": null,
            "left": null
          }
        },
        "6c32f639fcd246bb8a3efea63f8bc992": {
          "model_module": "@jupyter-widgets/controls",
          "model_name": "HTMLModel",
          "model_module_version": "1.5.0",
          "state": {
            "_view_name": "HTMLView",
            "style": "IPY_MODEL_dbb49db80be84a6395b0eb506d0c9339",
            "_dom_classes": [],
            "description": "",
            "_model_name": "HTMLModel",
            "placeholder": "​",
            "_view_module": "@jupyter-widgets/controls",
            "_model_module_version": "1.5.0",
            "value": "",
            "_view_count": null,
            "_view_module_version": "1.5.0",
            "description_tooltip": null,
            "_model_module": "@jupyter-widgets/controls",
            "layout": "IPY_MODEL_8822ea3f8dfa4a548e6ae234a4abe4d5"
          }
        },
        "603900e9ee8d45aba65d6abda1665410": {
          "model_module": "@jupyter-widgets/controls",
          "model_name": "FloatProgressModel",
          "model_module_version": "1.5.0",
          "state": {
            "_view_name": "ProgressView",
            "style": "IPY_MODEL_25044a1f4daf42038c53c256a68c5665",
            "_dom_classes": [],
            "description": "",
            "_model_name": "FloatProgressModel",
            "bar_style": "success",
            "max": 2640397119,
            "_view_module": "@jupyter-widgets/controls",
            "_model_module_version": "1.5.0",
            "value": 2640397119,
            "_view_count": null,
            "_view_module_version": "1.5.0",
            "orientation": "horizontal",
            "min": 0,
            "description_tooltip": null,
            "_model_module": "@jupyter-widgets/controls",
            "layout": "IPY_MODEL_098d174a05fa4c7b837786295d973c5c"
          }
        },
        "a28febbb3f43422496c2bfe63b5a9886": {
          "model_module": "@jupyter-widgets/controls",
          "model_name": "HTMLModel",
          "model_module_version": "1.5.0",
          "state": {
            "_view_name": "HTMLView",
            "style": "IPY_MODEL_f9158fd820204c938a83e748cc7943d4",
            "_dom_classes": [],
            "description": "",
            "_model_name": "HTMLModel",
            "placeholder": "​",
            "_view_module": "@jupyter-widgets/controls",
            "_model_module_version": "1.5.0",
            "value": " 2640397312/? [00:34&lt;00:00, 40191976.63it/s]",
            "_view_count": null,
            "_view_module_version": "1.5.0",
            "description_tooltip": null,
            "_model_module": "@jupyter-widgets/controls",
            "layout": "IPY_MODEL_158d518ba3874d58b532a666f07ae823"
          }
        },
        "dbb49db80be84a6395b0eb506d0c9339": {
          "model_module": "@jupyter-widgets/controls",
          "model_name": "DescriptionStyleModel",
          "model_module_version": "1.5.0",
          "state": {
            "_view_name": "StyleView",
            "_model_name": "DescriptionStyleModel",
            "description_width": "",
            "_view_module": "@jupyter-widgets/base",
            "_model_module_version": "1.5.0",
            "_view_count": null,
            "_view_module_version": "1.2.0",
            "_model_module": "@jupyter-widgets/controls"
          }
        },
        "8822ea3f8dfa4a548e6ae234a4abe4d5": {
          "model_module": "@jupyter-widgets/base",
          "model_name": "LayoutModel",
          "model_module_version": "1.2.0",
          "state": {
            "_view_name": "LayoutView",
            "grid_template_rows": null,
            "right": null,
            "justify_content": null,
            "_view_module": "@jupyter-widgets/base",
            "overflow": null,
            "_model_module_version": "1.2.0",
            "_view_count": null,
            "flex_flow": null,
            "width": null,
            "min_width": null,
            "border": null,
            "align_items": null,
            "bottom": null,
            "_model_module": "@jupyter-widgets/base",
            "top": null,
            "grid_column": null,
            "overflow_y": null,
            "overflow_x": null,
            "grid_auto_flow": null,
            "grid_area": null,
            "grid_template_columns": null,
            "flex": null,
            "_model_name": "LayoutModel",
            "justify_items": null,
            "grid_row": null,
            "max_height": null,
            "align_content": null,
            "visibility": null,
            "align_self": null,
            "height": null,
            "min_height": null,
            "padding": null,
            "grid_auto_rows": null,
            "grid_gap": null,
            "max_width": null,
            "order": null,
            "_view_module_version": "1.2.0",
            "grid_template_areas": null,
            "object_position": null,
            "object_fit": null,
            "grid_auto_columns": null,
            "margin": null,
            "display": null,
            "left": null
          }
        },
        "25044a1f4daf42038c53c256a68c5665": {
          "model_module": "@jupyter-widgets/controls",
          "model_name": "ProgressStyleModel",
          "model_module_version": "1.5.0",
          "state": {
            "_view_name": "StyleView",
            "_model_name": "ProgressStyleModel",
            "description_width": "",
            "_view_module": "@jupyter-widgets/base",
            "_model_module_version": "1.5.0",
            "_view_count": null,
            "_view_module_version": "1.2.0",
            "bar_color": null,
            "_model_module": "@jupyter-widgets/controls"
          }
        },
        "098d174a05fa4c7b837786295d973c5c": {
          "model_module": "@jupyter-widgets/base",
          "model_name": "LayoutModel",
          "model_module_version": "1.2.0",
          "state": {
            "_view_name": "LayoutView",
            "grid_template_rows": null,
            "right": null,
            "justify_content": null,
            "_view_module": "@jupyter-widgets/base",
            "overflow": null,
            "_model_module_version": "1.2.0",
            "_view_count": null,
            "flex_flow": null,
            "width": null,
            "min_width": null,
            "border": null,
            "align_items": null,
            "bottom": null,
            "_model_module": "@jupyter-widgets/base",
            "top": null,
            "grid_column": null,
            "overflow_y": null,
            "overflow_x": null,
            "grid_auto_flow": null,
            "grid_area": null,
            "grid_template_columns": null,
            "flex": null,
            "_model_name": "LayoutModel",
            "justify_items": null,
            "grid_row": null,
            "max_height": null,
            "align_content": null,
            "visibility": null,
            "align_self": null,
            "height": null,
            "min_height": null,
            "padding": null,
            "grid_auto_rows": null,
            "grid_gap": null,
            "max_width": null,
            "order": null,
            "_view_module_version": "1.2.0",
            "grid_template_areas": null,
            "object_position": null,
            "object_fit": null,
            "grid_auto_columns": null,
            "margin": null,
            "display": null,
            "left": null
          }
        },
        "f9158fd820204c938a83e748cc7943d4": {
          "model_module": "@jupyter-widgets/controls",
          "model_name": "DescriptionStyleModel",
          "model_module_version": "1.5.0",
          "state": {
            "_view_name": "StyleView",
            "_model_name": "DescriptionStyleModel",
            "description_width": "",
            "_view_module": "@jupyter-widgets/base",
            "_model_module_version": "1.5.0",
            "_view_count": null,
            "_view_module_version": "1.2.0",
            "_model_module": "@jupyter-widgets/controls"
          }
        },
        "158d518ba3874d58b532a666f07ae823": {
          "model_module": "@jupyter-widgets/base",
          "model_name": "LayoutModel",
          "model_module_version": "1.2.0",
          "state": {
            "_view_name": "LayoutView",
            "grid_template_rows": null,
            "right": null,
            "justify_content": null,
            "_view_module": "@jupyter-widgets/base",
            "overflow": null,
            "_model_module_version": "1.2.0",
            "_view_count": null,
            "flex_flow": null,
            "width": null,
            "min_width": null,
            "border": null,
            "align_items": null,
            "bottom": null,
            "_model_module": "@jupyter-widgets/base",
            "top": null,
            "grid_column": null,
            "overflow_y": null,
            "overflow_x": null,
            "grid_auto_flow": null,
            "grid_area": null,
            "grid_template_columns": null,
            "flex": null,
            "_model_name": "LayoutModel",
            "justify_items": null,
            "grid_row": null,
            "max_height": null,
            "align_content": null,
            "visibility": null,
            "align_self": null,
            "height": null,
            "min_height": null,
            "padding": null,
            "grid_auto_rows": null,
            "grid_gap": null,
            "max_width": null,
            "order": null,
            "_view_module_version": "1.2.0",
            "grid_template_areas": null,
            "object_position": null,
            "object_fit": null,
            "grid_auto_columns": null,
            "margin": null,
            "display": null,
            "left": null
          }
        }
      }
    },
    "accelerator": "GPU"
  },
  "cells": [
    {
      "cell_type": "markdown",
      "metadata": {
        "id": "B5QgIb5QqU1w"
      },
      "source": [
        "**ImageNet dataset을 이용한 AlexNet 구현**"
      ]
    },
    {
      "cell_type": "markdown",
      "metadata": {
        "id": "28WEc5bqamHs"
      },
      "source": [
        "\n",
        "\n",
        "AlexNet은 ILSCRC-2012의 ImageNet dataset을 사용하여 대량의 고화질 이미지를 빠르게 학습하는 네트워크이다.Input image data가 동일한 resolution을 갖게 하기 위해서, 256x256 크기의 이미지로 resize 했다.\n",
        "\n",
        "AelxNet은 5개의 Convolutional Layer와 3개의 fully-connected layer로 구성되어 있다. Activation function에는 Relu를 사용하였고, 각 Convolutional Layer에는 Maxpooling을, FC layer에는 dropout을 사용하였다.\n",
        "\n",
        "또한, 특이하게 Local Response Normalization(LRN)이라는 noramlization layer를 두었고, 이를 사용하면 측면 억제라는 강한 자극(짙은 색깔)이 주변에 영향을 미치는 현상을 억제시켜주는 방법이라고 한다. 현재는 batch normalization을 사용해서 예방한다. \n",
        "\n",
        "Overfitting을 피하기 위해 Data augmentation과 dropout을 사용하였다.\n",
        "Data augmentation은 256x256 이미지를 227x227 크기의 이미지가 되도록 random으로 crop하거나 상하반전을 줘서 이미지가 조금 달라지게 만들었다. 또한, RGB pexel에 PCA를 적용하여 이미지에 변화를 주었다. 첫번째 Convolutional Layer의 Input 이미지는 3x227x227를 사용하였다. (3은 RGB, 227는 크기)\n",
        "Dropout은 FC layer1과 FC layer2에 적용시켰다.\n",
        "\n",
        "![image.png](data:image/png;base64,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)\n",
        "\n",
        "그림에 224x224로 적혀 있지만 실제로는 227x227이 맞다고 한다."
      ]
    },
    {
      "cell_type": "markdown",
      "metadata": {
        "id": "nGAMpuEzl8lZ"
      },
      "source": [
        "Input 이미지는 3x227x227이고, 첫번째 Convolutional Layer의 input으로 들어간다.\n",
        "\n",
        "첫번째 Layer는 C1:Convolutional Layer로 96개의 output channel로 구성되어있고, kernel size=11x11, stride=4을 사용하였다. 첫번째 Layer를 통과하면 3x227x227  ->  96x55x55로 크기가 바뀌게 된다.\n",
        "\n",
        "두번째 Layer는 S1:max pooling을 사용하였고, kernel size는 3x3, stride=2를 사용하였다. 두번째 Layer를 통과하면  96x55x55 -> 96x27x27의 크기가 된다.\n",
        "\n",
        "이와 함께 LRN을 적용하였다 .크기에는 영향을 미치지 않는다. 96x27x27 -> 96x27x27\n",
        "\n",
        "세번째 Layer는 C2:Convolutional Layer로 256개의 output channel로 구성되어있고, kernel size=5x5, stride=1, padding=2를 사용하였다. 세번째 Layer를 통과하면 96x27x27 -> 256x27x27이 된다.\n",
        "\n",
        "네번째 Layer는 S2:max pooling을 사용하였고, kernel size는 3x3, stride=2를 사용하였다. 네번째 Layer를 통과하면  256x27x27 -> 256x13x13의 크기가 된다.\n",
        "\n",
        "역시 LRN을 적용하였다. 크기에는 영향을 미치지 않는다. 256x13x13 -> 256x13x13\n",
        "\n",
        "다섯번째 Layer는 C3:Convolutional Layer로 384개의 output channel로 구성되어있고, kernel size=3x3, stride=1, padding=1를 사용하였다. 다섯번째 Layer를 통과하면 256x13x13 -> 384x13x13이 된다.\n",
        "\n",
        "여섯번째 Layer는 C4:Convolutional Layer로 384개의 output channel로 구성되어있고, kernel size=3x3, stride=1, padding=1를 사용하였다. 어섯번째 Layer를 통과하면 384x13x13 -> 384x13x13이 된다.\n",
        "\n",
        "일곱번째 Layer는 C5:Convolutional Layer로 256개의 output channel로 구성되어있고, kernel size=3x3, stride=1, padding=1를 사용하였다. 일곱번째 Layer를 통과하면 384x13x13 -> 256x13x13이 된다.\n",
        "\n",
        "여덟번째 Layer는 S3:max pooling을 사용하였고, kernel size는 3x3, stride=2를 사용하였다. 여덟번째 Layer를 통과하면  256x13x13 -> 256x6x6의 크기가 된다.\n",
        "\n",
        "아홉번째 Layer는 F1:Fully Connected Layer로 4096개의 노드를 output으로 가지며, 이 논문에서는 relu를 activation function으로 사용하였다.\n",
        "\n",
        "열번째 Layer는 F2:Fully Connected Layer로 4096개의 노드를 output으로 가지며, 이 논문에서는 relu를 activation function으로 사용하였다.\n",
        "\n",
        "Output Layer는 F1:Fully Connected Layer로 1000개의 노드를 output node를 갖는다. 1000개의 class로 나뉘어 있기 때문이다.\n",
        "\n",
        "**** \n",
        "Convolutional layer의 output size는 \n",
        "\n",
        "(W - F + 2P) / S + 1 \n",
        "\n",
        "의 식을 사용하여 계산할 수 있다. W는 input 이미지의 width/height 크기이며, F는 kernel(filter) size, P는 padding, 그리고 S는 stride를 의미한다."
      ]
    },
    {
      "cell_type": "code",
      "metadata": {
        "id": "9F5FJSQZtlJ4"
      },
      "source": [
        ""
      ],
      "execution_count": null,
      "outputs": []
    },
    {
      "cell_type": "markdown",
      "metadata": {
        "id": "5AcQFVEbtklQ"
      },
      "source": [
        "**Pytorch를 사용해서 AlexNet 구현해보기**"
      ]
    },
    {
      "cell_type": "markdown",
      "metadata": {
        "id": "4OWnyImptrZr"
      },
      "source": [
        "구현을 위한 Dataset은 STL10의 dataset을 사용하였다.\n",
        "논문에서는 2개의 GPU를 사용하였지만, 현재 작업환경을 고려해서 단일 GPU에서의 AlexNet을 구현하였다."
      ]
    },
    {
      "cell_type": "code",
      "metadata": {
        "id": "iJhS_Po9tq-L"
      },
      "source": [
        "# 먼저 필요한 Library import 하기\n",
        "\n",
        "import os\n",
        "\n",
        "import torch\n",
        "import torch.nn as nn\n",
        "import torch.optim as optim\n",
        "import torch.nn.functional as F\n",
        "from torch.utils.data import DataLoader\n",
        "from torch.utils import data\n",
        "\n",
        "import torchvision.datasets as datasets\n",
        "import torchvision.transforms as transforms\n",
        "\n",
        "\n",
        "# 필요한 parameter를 미리 세팅한다.\n",
        "random_seed=4\n",
        "learning_rate=0.0001\n",
        "batch_size=32\n",
        "epochs=100\n",
        "\n",
        "image_size=227\n",
        "n_classes=1000   \n",
        "\n",
        "DEVICE='cuda' if torch.cuda.is_available() else 'cpu'"
      ],
      "execution_count": null,
      "outputs": []
    },
    {
      "cell_type": "code",
      "metadata": {
        "colab": {
          "base_uri": "https://localhost:8080/",
          "height": 139,
          "referenced_widgets": [
            "c67f0cf68bf1489f9b6fe85c764a2e54",
            "e4e9ea1ddfba42e8a9b778a12ea0a3ad",
            "6c32f639fcd246bb8a3efea63f8bc992",
            "603900e9ee8d45aba65d6abda1665410",
            "a28febbb3f43422496c2bfe63b5a9886",
            "dbb49db80be84a6395b0eb506d0c9339",
            "8822ea3f8dfa4a548e6ae234a4abe4d5",
            "25044a1f4daf42038c53c256a68c5665",
            "098d174a05fa4c7b837786295d973c5c",
            "f9158fd820204c938a83e748cc7943d4",
            "158d518ba3874d58b532a666f07ae823"
          ]
        },
        "id": "wd6dXCHHQwTs",
        "outputId": "d34b8ed0-c738-416c-8f8b-84b50f4c07d7"
      },
      "source": [
        "datapath='/data'\n",
        "\n",
        "if not os.path.exists(datapath):\n",
        "  os.mkdir(datapath)\n",
        "\n",
        "#transforms로 원하는 형태의 dataset으로 변형해준다.\n",
        "tfData=transforms.Compose([transforms.Resize((256,256)),\n",
        "                           transforms.RandomCrop(227),  # 227 size로 random crop \n",
        "                           transforms.ToTensor(),\n",
        "                           transforms.Normalize((0.5,0.5,0.5), (0.5,0.5,0.5)),\n",
        "                           ])\n",
        "\n",
        "# Dataset 다운로드\n",
        "train_data = datasets.STL10(datapath, split='train', download='True', transform=tfData)\n",
        "test_data = datasets.STL10(datapath, split='test', download='True', transform=tfData)\n",
        "\n",
        "print(train_data.data.shape)\n",
        "print(test_data.data.shape)\n",
        "\n",
        "train_loader=DataLoader(train_data, batch_size=batch_size, shuffle=True)\n",
        "test_loader=DataLoader(test_data, batch_size=batch_size, shuffle=False)"
      ],
      "execution_count": null,
      "outputs": [
        {
          "output_type": "stream",
          "text": [
            "Downloading http://ai.stanford.edu/~acoates/stl10/stl10_binary.tar.gz to /data/stl10_binary.tar.gz\n"
          ],
          "name": "stdout"
        },
        {
          "output_type": "display_data",
          "data": {
            "application/vnd.jupyter.widget-view+json": {
              "model_id": "c67f0cf68bf1489f9b6fe85c764a2e54",
              "version_minor": 0,
              "version_major": 2
            },
            "text/plain": [
              "  0%|          | 0/2640397119 [00:00<?, ?it/s]"
            ]
          },
          "metadata": {
            "tags": []
          }
        },
        {
          "output_type": "stream",
          "text": [
            "Extracting /data/stl10_binary.tar.gz to /data\n",
            "Files already downloaded and verified\n",
            "(5000, 3, 96, 96)\n",
            "(8000, 3, 96, 96)\n"
          ],
          "name": "stdout"
        }
      ]
    },
    {
      "cell_type": "markdown",
      "metadata": {
        "id": "7jsAud1FYuvS"
      },
      "source": [
        "**AlexNet 구현하기**"
      ]
    },
    {
      "cell_type": "code",
      "metadata": {
        "id": "2-uQvDDnWib9"
      },
      "source": [
        "class AlexNet(nn.Module):\n",
        "  def __init__(self, n_classes):\n",
        "    super().__init__()\n",
        "\n",
        "    # Convolutional Layer 및 pooling, LRN 정의\n",
        "    self.conv1=nn.Conv2d(in_channels=3, out_channels=96, kernel_size=11, stride=4)  # Input size는 3x227x227으로 3은 RGB, 227은 width, height를 의미한다.\n",
        "                                                                                    # output size는 96x55x55 이다.\n",
        "    self.max_pool1=nn.MaxPool2d(kernel_size=3, stride=2)  # 96x55x55 -> 96x27x27\n",
        "    self.norm1=nn.LocalResponseNorm(size=5, k=2)  # default로 alpha=0.0001, beta-0.75이다.\n",
        "\n",
        "    self.conv2=nn.Conv2d(96, 256, kernel_size=5, stride= 1, padding=2) # 96x27x27 -> 256x27x27\n",
        "    self.max_pool2=nn.MaxPool2d(kernel_size=3, stride=2)  # 256x27x27 -> 256x13x13\n",
        "    self.norm2=nn.LocalResponseNorm(size=5, k=2)\n",
        "\n",
        "    self.conv3=nn.Conv2d(256,384, kernel_size=3, stride=1, padding=1)  # 256x13x13 -> 384x13x13\n",
        "    self.conv4=nn.Conv2d(384, 384, kernel_size=3, stride=1, padding=1) # 384x13x13 -> 384x13x13\n",
        "\n",
        "    self.conv5=nn.Conv2d(384, 256, kernel_size=3, stride=1, padding=1) # 384x13x13 -> 256x13x13\n",
        "    self.max_pool3=nn.MaxPool2d(kernel_size=3, stride=2) # 256x13x13 -> 256x6x6\n",
        "\n",
        "    # Fully Connected Layer 및 dropout 정의\n",
        "    self.fc1=nn.Linear(in_features=256*6*6, out_features=4096)  # 256x6x6 -> 4096\n",
        "    self.dropout1=nn.Dropout(p=0.5)  # dropout 0.5\n",
        "\n",
        "    self.fc2=nn.Linear(4096, 4096)  # 4096 -> 4096\n",
        "    self.dropout2=nn.Dropout(p=0.5)  # dropout 0.5\n",
        "\n",
        "    self.fc3=nn.Linear(4096, n_classes)  # 4096 -> 1000\n",
        " \n",
        "\n",
        "\n",
        "  def forward(self, x):\n",
        "    x=F.relu(self.conv1(x))\n",
        "    x=self.max_pool1(x)\n",
        "    x=self.norm1(x)\n",
        "    x=F.relu(self.conv2(x))\n",
        "    x=self.max_pool2(x)\n",
        "    x=self.norm2(x)\n",
        "    x=F.relu(self.conv3(x))\n",
        "    x=F.relu(self.conv4(x))\n",
        "    x=F.relu(self.conv5(x))\n",
        "    x=self.max_pool3(x)\n",
        "    x=x.view(-1, 256*6*6)\n",
        "    x=self.fc1(x)\n",
        "    x=F.relu(x)\n",
        "    x=self.dropout1(x)\n",
        "    x=self.fc2(x)\n",
        "    x=F.relu(x)\n",
        "    x=self.dropout2(x)\n",
        "    x=self.fc3(x)\n",
        "\n",
        "    return F.softmax(x, dim=1)\n",
        "\n",
        "\n"
      ],
      "execution_count": null,
      "outputs": []
    },
    {
      "cell_type": "code",
      "metadata": {
        "colab": {
          "base_uri": "https://localhost:8080/"
        },
        "id": "6NYwjVHn4kyl",
        "outputId": "21962857-68eb-4e8d-9c58-01ece6d0337a"
      },
      "source": [
        "model=AlexNet(1000).to(DEVICE)\n",
        "print(model)"
      ],
      "execution_count": null,
      "outputs": [
        {
          "output_type": "stream",
          "text": [
            "AlexNet(\n",
            "  (conv1): Conv2d(3, 96, kernel_size=(11, 11), stride=(4, 4))\n",
            "  (max_pool1): MaxPool2d(kernel_size=3, stride=2, padding=0, dilation=1, ceil_mode=False)\n",
            "  (norm1): LocalResponseNorm(5, alpha=0.0001, beta=0.75, k=2)\n",
            "  (conv2): Conv2d(96, 256, kernel_size=(5, 5), stride=(1, 1), padding=(2, 2))\n",
            "  (max_pool2): MaxPool2d(kernel_size=3, stride=2, padding=0, dilation=1, ceil_mode=False)\n",
            "  (norm2): LocalResponseNorm(5, alpha=0.0001, beta=0.75, k=2)\n",
            "  (conv3): Conv2d(256, 384, kernel_size=(3, 3), stride=(1, 1), padding=(1, 1))\n",
            "  (conv4): Conv2d(384, 384, kernel_size=(3, 3), stride=(1, 1), padding=(1, 1))\n",
            "  (conv5): Conv2d(384, 256, kernel_size=(3, 3), stride=(1, 1), padding=(1, 1))\n",
            "  (max_pool3): MaxPool2d(kernel_size=3, stride=2, padding=0, dilation=1, ceil_mode=False)\n",
            "  (fc1): Linear(in_features=9216, out_features=4096, bias=True)\n",
            "  (dropout1): Dropout(p=0.5, inplace=False)\n",
            "  (fc2): Linear(in_features=4096, out_features=4096, bias=True)\n",
            "  (dropout2): Dropout(p=0.5, inplace=False)\n",
            "  (fc3): Linear(in_features=4096, out_features=1000, bias=True)\n",
            ")\n"
          ],
          "name": "stdout"
        }
      ]
    },
    {
      "cell_type": "code",
      "metadata": {
        "colab": {
          "base_uri": "https://localhost:8080/"
        },
        "id": "UyY369jv5ZxP",
        "outputId": "f0e02d35-db06-4b3e-faad-460d2d255014"
      },
      "source": [
        "from torchsummary import summary\n",
        "summary(model, input_size=(3,227,227))"
      ],
      "execution_count": null,
      "outputs": [
        {
          "output_type": "stream",
          "text": [
            "/usr/local/lib/python3.7/dist-packages/torch/nn/functional.py:718: UserWarning: Named tensors and all their associated APIs are an experimental feature and subject to change. Please do not use them for anything important until they are released as stable. (Triggered internally at  /pytorch/c10/core/TensorImpl.h:1156.)\n",
            "  return torch.max_pool2d(input, kernel_size, stride, padding, dilation, ceil_mode)\n"
          ],
          "name": "stderr"
        },
        {
          "output_type": "stream",
          "text": [
            "----------------------------------------------------------------\n",
            "        Layer (type)               Output Shape         Param #\n",
            "================================================================\n",
            "            Conv2d-1           [-1, 96, 55, 55]          34,944\n",
            "         MaxPool2d-2           [-1, 96, 27, 27]               0\n",
            " LocalResponseNorm-3           [-1, 96, 27, 27]               0\n",
            "            Conv2d-4          [-1, 256, 27, 27]         614,656\n",
            "         MaxPool2d-5          [-1, 256, 13, 13]               0\n",
            " LocalResponseNorm-6          [-1, 256, 13, 13]               0\n",
            "            Conv2d-7          [-1, 384, 13, 13]         885,120\n",
            "            Conv2d-8          [-1, 384, 13, 13]       1,327,488\n",
            "            Conv2d-9          [-1, 256, 13, 13]         884,992\n",
            "        MaxPool2d-10            [-1, 256, 6, 6]               0\n",
            "           Linear-11                 [-1, 4096]      37,752,832\n",
            "          Dropout-12                 [-1, 4096]               0\n",
            "           Linear-13                 [-1, 4096]      16,781,312\n",
            "          Dropout-14                 [-1, 4096]               0\n",
            "           Linear-15                 [-1, 1000]       4,097,000\n",
            "================================================================\n",
            "Total params: 62,378,344\n",
            "Trainable params: 62,378,344\n",
            "Non-trainable params: 0\n",
            "----------------------------------------------------------------\n",
            "Input size (MB): 0.59\n",
            "Forward/backward pass size (MB): 6.89\n",
            "Params size (MB): 237.95\n",
            "Estimated Total Size (MB): 245.43\n",
            "----------------------------------------------------------------\n"
          ],
          "name": "stdout"
        }
      ]
    },
    {
      "cell_type": "markdown",
      "metadata": {
        "id": "ET-gYN2B6F2W"
      },
      "source": [
        "**Train**"
      ]
    },
    {
      "cell_type": "code",
      "metadata": {
        "id": "a9zF4kHF5yxN"
      },
      "source": [
        "#optimizer=optim.SGD(model.parameters(), lr=learning_rate, momentum=0.9, weight_decay=0.0005)\n",
        "optimizer=optim.Adam(model.parameters(), lr=learning_rate)\n",
        "criterion=nn.CrossEntropyLoss()"
      ],
      "execution_count": null,
      "outputs": []
    },
    {
      "cell_type": "code",
      "metadata": {
        "id": "JpOGC8bz6kS6"
      },
      "source": [
        "def train(train_loader, model, criterion, optimizer, device):\n",
        "\n",
        "  running_loss=0\n",
        "  count=0\n",
        "  correct=0\n",
        "\n",
        "  model.train()\n",
        "  for batch in train_loader:\n",
        "    X=batch[0]\n",
        "    y_true=batch[1]\n",
        "\n",
        "    X=X.to(device)\n",
        "    y_true=y_true.to(device)   \n",
        "\n",
        "    # Forward\n",
        "    y_pred=model(X)\n",
        "    loss=criterion(y_pred, y_true)\n",
        "    running_loss+=loss.item()\n",
        "    batch_correct=torch.argmax(y_pred, dim=1).eq(y_true).sum().item()\n",
        "    batch_count=len(X)\n",
        "\n",
        "\n",
        "    # Backward\n",
        "    optimizer.zero_grad()\n",
        "    loss.backward()\n",
        "    optimizer.step()\n",
        "\n",
        "    count+=batch_count\n",
        "    correct+=batch_correct\n",
        "  \n",
        "  epoch_loss=running_loss / len(train_loader.dataset)\n",
        "  epoch_accuracy=correct/count\n",
        "  return model, optimizer, epoch_loss, epoch_accuracy   \n"
      ],
      "execution_count": null,
      "outputs": []
    },
    {
      "cell_type": "code",
      "metadata": {
        "id": "YreKiWq78q3q"
      },
      "source": [
        "#train(train_loader, model, criterion, optimizer, DEVICE)"
      ],
      "execution_count": null,
      "outputs": []
    },
    {
      "cell_type": "code",
      "metadata": {
        "id": "2_qbdEm_m-DN"
      },
      "source": [
        "def evaluation(test_loader, model, criterion, device):\n",
        "\n",
        "  running_loss=0\n",
        "  count=0\n",
        "  correct=0\n",
        "  \n",
        "  model.eval()\n",
        "  for batch in test_loader:\n",
        "    X=batch[0]\n",
        "    y_true=batch[1]\n",
        "\n",
        "    X=X.to(device)\n",
        "    y_true=y_true.to(device)\n",
        "\n",
        "    # Forward\n",
        "    y_pred=model(X)\n",
        "    loss=criterion(y_pred, y_true)\n",
        "    batch_correct=torch.argmax(y_pred, dim=1).eq(y_true).sum().item()\n",
        "    batch_count=len(X)\n",
        "    running_loss+=loss.item()*X.size(0)\n",
        "\n",
        "    count+=batch_count\n",
        "    correct+=batch_correct\n",
        "\n",
        "\n",
        "  epoch_loss=running_loss/len(test_loader.dataset)\n",
        "  epoch_accuracy=correct/count  \n",
        "\n",
        "  return model, epoch_loss, epoch_accuracy\n",
        "\n"
      ],
      "execution_count": null,
      "outputs": []
    },
    {
      "cell_type": "code",
      "metadata": {
        "id": "4Y7ViMjHnXVS"
      },
      "source": [
        "#evaluation(test_loader, model, criterion,DEVICE)"
      ],
      "execution_count": null,
      "outputs": []
    },
    {
      "cell_type": "code",
      "metadata": {
        "colab": {
          "base_uri": "https://localhost:8080/"
        },
        "id": "xICrawgKlS5v",
        "outputId": "2f94f021-e936-403a-966c-870f8417c91d"
      },
      "source": [
        "# train % validation\n",
        "\n",
        "train_losses=[]\n",
        "test_losses=[]\n",
        "\n",
        "train_acc=[]\n",
        "test_acc=[]\n",
        "for epoch in range(epochs):\n",
        "  model, optimizer, train_loss, train_accuracy=train(train_loader, model, criterion, optimizer, DEVICE)\n",
        "  train_acc.append(train_accuracy)\n",
        "  train_losses.append(train_loss)\n",
        "\n",
        "  with torch.no_grad():\n",
        "     model, test_loss, test_accuracy=evaluation(test_loader, model, criterion, DEVICE)\n",
        "     test_acc.append(test_accuracy)\n",
        "     test_losses.append(test_loss)\n",
        "\n",
        "  if epoch%10==0:\n",
        "      print('epoch: ', epoch, 'train_loss: ', train_loss, 'test_loss: ', test_loss)\n",
        "      print('          train accuracy: ', train_accuracy, 'test accuracy: ', test_accuracy)\n",
        "\n",
        "\n"
      ],
      "execution_count": null,
      "outputs": [
        {
          "output_type": "stream",
          "text": [
            "epoch:  0 train_loss:  0.21409239168167113 test_loss:  6.809470558166504\n",
            "          train accuracy:  0.0952 test accuracy:  0.1\n",
            "epoch:  10 train_loss:  0.21383237600326538 test_loss:  6.809470558166504\n",
            "          train accuracy:  0.1 test accuracy:  0.1\n",
            "epoch:  20 train_loss:  0.2138136260032654 test_loss:  6.809470558166504\n",
            "          train accuracy:  0.1 test accuracy:  0.1\n",
            "epoch:  30 train_loss:  0.21383237600326538 test_loss:  6.809470558166504\n",
            "          train accuracy:  0.1 test accuracy:  0.1\n",
            "epoch:  40 train_loss:  0.21383237600326538 test_loss:  6.809470558166504\n",
            "          train accuracy:  0.1 test accuracy:  0.1\n",
            "epoch:  50 train_loss:  0.21383237600326538 test_loss:  6.809470558166504\n",
            "          train accuracy:  0.1 test accuracy:  0.1\n",
            "epoch:  60 train_loss:  0.2138136260032654 test_loss:  6.809470558166504\n",
            "          train accuracy:  0.1 test accuracy:  0.1\n",
            "epoch:  70 train_loss:  0.21379487600326538 test_loss:  6.809470558166504\n",
            "          train accuracy:  0.1 test accuracy:  0.1\n",
            "epoch:  80 train_loss:  0.21383237600326538 test_loss:  6.809470558166504\n",
            "          train accuracy:  0.1 test accuracy:  0.1\n",
            "epoch:  90 train_loss:  0.21383237600326538 test_loss:  6.809470558166504\n",
            "          train accuracy:  0.1 test accuracy:  0.1\n"
          ],
          "name": "stdout"
        }
      ]
    },
    {
      "cell_type": "markdown",
      "metadata": {
        "id": "CprRW_KuMmOD"
      },
      "source": [
        "AlexNet으로 학습을 진행하였지만, accuracy 10%로 굉장히 낮았고 수렴도 하지못하였다. learning rate을 0.1~0.0001로 변화시켜봤지만 특별한 수렴점을 찾지 못했다."
      ]
    },
    {
      "cell_type": "markdown",
      "metadata": {
        "id": "lm48T8iqmH2k"
      },
      "source": [
        "참고\n",
        "\n",
        "https://wolfy.tistory.com/241"
      ]
    }
  ]
}
